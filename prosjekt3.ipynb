{
 "cells": [
  {
   "cell_type": "markdown",
   "metadata": {},
   "source": [
    "# Dimensionality reduction and noise removal of face images with Non-Negative Matrix Factorization\n",
    "\n",
    "\n",
    "\n",
    "***TODO***\n",
    "\n",
    "***\n",
    "- Lage plotfunksjon som kan lage ax=(1, 1) plot\n",
    "- Lage funksjon som setter sammen plot slik at man kan få 2-3 enkle ved siden av hverandre\n",
    "\n",
    "- Fikse alignment på flere bilder funksjonen. a, b, c er litt off.\n",
    "\n",
    "text = 'https://devnote.in'\n",
    "\n",
    "textwidth, textheight = draw.textsize(text)\n",
    "***"
   ]
  },
  {
   "cell_type": "markdown",
   "metadata": {},
   "source": [
    "## Contents\n",
    "* [Introduction](#intro)\n",
    "* [Theory behind methods](#method)\n",
    "* [Analysing the CryptoPunks dataset](#dataset)\n",
    "* [Denoising](#denoising)\n",
    "* [Conclusion](#conclusion)"
   ]
  },
  {
   "cell_type": "markdown",
   "metadata": {},
   "source": [
    "## Introduction <a class=\"anchor\" id=\"intro\"></a>"
   ]
  },
  {
   "cell_type": "markdown",
   "metadata": {},
   "source": [
    "\\\n",
    "\\\n",
    "\\\n",
    "\n",
    "An important subset of machine learning is dimentionality reduction. \n",
    "\n",
    "Examples include ...\n",
    "\n",
    "One method of dimentionality reduction is non-negative matrix factorization (referred to as NMF throughout his notebook). In this project we will investigate this method. We begin by implementing it and testing on simple matrices, before using our tools to reduce the dimentionality of an image dataset. Towards the end of the notebook we attempt denoising with the method."
   ]
  },
  {
   "cell_type": "markdown",
   "metadata": {},
   "source": [
    "\\\n",
    "\\\n",
    "\\\n",
    "\\\n",
    "\\\n",
    "*A note on runtime etc...*\\\n",
    "\\\n",
    "\\\n",
    "\\\n",
    "\\\n",
    "\\\n",
    "\\\n",
    "\n",
    "Below we import the libraries needed for this project. "
   ]
  },
  {
   "cell_type": "code",
   "execution_count": 80,
   "metadata": {},
   "outputs": [],
   "source": [
    "# Libraries for math and plotting\n",
    "import numpy as np\n",
    "import matplotlib.pyplot as plt\n",
    "\n",
    "## Image handling, files, timing and status bar\n",
    "#%pip install opencv-python \n",
    "# Required to import cv2 !!!\n",
    "import cv2\n",
    "import os\n",
    "import time\n",
    "\n",
    "#import random SE OM NOTEBOOK KJØRER UTEN??\n",
    "\n",
    "# Gives a progress bar \n",
    "from tqdm.notebook import tqdm\n",
    "\n",
    "# Used to combine saved images\n",
    "from PIL import Image"
   ]
  },
  {
   "cell_type": "markdown",
   "metadata": {},
   "source": [
    "To reduce the amount of lines required to make plots, and avoid copying similar code to many cells, we create a standard plot function."
   ]
  },
  {
   "cell_type": "code",
   "execution_count": 81,
   "metadata": {},
   "outputs": [],
   "source": [
    "figure_count = 0\n",
    "\n",
    "# def plot_funk( **kwargs..)\n",
    "\n",
    "\n",
    "\n",
    "\n",
    "\n",
    "\n",
    "#figtext, auto numbering\n"
   ]
  },
  {
   "cell_type": "markdown",
   "metadata": {},
   "source": [
    "## (TASK 1) Theory behind methods <a class=\"anchor\" id=\"method\"></a>"
   ]
  },
  {
   "cell_type": "markdown",
   "metadata": {},
   "source": [
    "\n",
    "Non-negative matrix factorization (NMF) is a method for reducing the dimension of matrices, given by: \n",
    "\n",
    "$$A ≈ A_{NMF} = W H$$\n",
    "\n",
    "Where $A$ is a $m\\,\\times\\,n$ matrix that we want to reduce the dimensionality of. $W$ is a non negative $m\\,\\times\\,d$ matrix and $H$ is a non negative $d\\,x\\,n$ matrix. $d$ is usually chosen to be considerably smaller than $n$ and $m$, so that $A$ can be represented in a more compact manner, but if $d$ is too small it can lead to an inadequate apptroximation of $A$. We will refer to $WH$ as the reconstruction of $A$.\n",
    "\n",
    "\\\n",
    "\\\n",
    "\\\n",
    "\\\n",
    "***MORE about how to interpret the values in W and H. Extra insight, applications for spotify etc..., ..., \"in out case\"?***\n",
    "\\\n",
    "\\\n",
    "\\\n",
    "\\\n",
    "\n",
    "The NMF of $A$ satisfies:\n",
    "\n",
    "$$\\min_{W, H} \\lVert A - WH \\rVert_F $$\n",
    "\n",
    "such that $W$ and $H$ are non negative. There are infinetly many combinations of $W$ and $H$ that satisfy this condition, meaning that the NMF is non unique. We will use an iterative algorithm to calculate the NMF given by:\n",
    "\n",
    "$$H_{k+1} ← H_k \\odot (W^T_k A) \\oslash (W^T_k W_kH_k)$$\n",
    "\n",
    "$$W_{k+1} ← W_k \\odot (AH^T_{k+1}) \\oslash (W_kH_{k+1}H^T_{k+1})$$\n",
    "\n",
    "This algortihm satisfies: \n",
    "\n",
    "$$\\lVert A - W_{k+1}H_{k+1} \\rVert_F \\leqslant \\lVert A - W_kH_k \\rVert_F$$\n",
    "\n",
    "Meaning that it converges to a local minimizer of the error, and therefore it may just find and approximate solution of the NMF, which again is an approximation of $A$. As a result there is a big room for error as the NMF might be a poor approximation of $A$ and our algorithm might not converge to a satisfying solution for the NMF."
   ]
  },
  {
   "cell_type": "markdown",
   "metadata": {},
   "source": [
    "a) \n",
    "    \"We will show that if $A$ is non negative and $W$ and $H$ are initialized as positive, then all iterates $W_k$ and $H_k$ are also positive. This will by done by induction:  **Hvis a er 0 blir vel W_k og H_k også 0?, så vil må vel endre formulerinen litt?**\\n\",\n",
    "    \"\\n\",\n",
    "    \"Asssume $A$ is non negative and $W$ and $H$ are initialized as positive, and let $P(n)$ be the statement $W_k$ and $H_k$ are positive.\\n\",\n",
    "    \"\\n\",\n",
    "    \"The hypothesis clearly holds for the base case $P(0)$, as $W_0=W$ and $H_0=H$ being positive is part of our assumptions. \\n\",\n",
    "    \"\\n\",\n",
    "    \"Now we assume the induction hypothesis holds for $n=k$. We have that:\\n\",\n",
    "    \"\\n\",\n",
    "    \"$H_{k+1} ← H_k ⊙ (W^T_k A) ⊘ (W^T_k W_kH_k)$\\n\",\n",
    "    \"\\n\",\n",
    "    \"$W_{k+1} ← W_k ⊙ (AH^T_{k+1}) ⊘ (W_kH_{k+1}H^T_{k+1})$\\n\",\n",
    "    \"\\n\",\n",
    "    \"It is clear that $H_{k+1}$ is positive, as it is a product of $H_k$, $W_k$, $W^T_k$ and $A$, which are all positive under our assumptions and induction hypothesis. \\n\",\n",
    "    \"\\n\",\n",
    "    \"It follows that $W_{k+1}$ is positive, as it is also a product of only positive matrices. \\n\",\n",
    "    \"\\n\",\n",
    "    \"Hence the induction hypothesis holds for $n=k+1$. By induction it follows that $P(n)$ holds for all $n$ in $\\mathbb{Z^+}$."
   ]
  },
  {
   "cell_type": "markdown",
   "metadata": {},
   "source": [
    "b) \n",
    "\n",
    "If $(W^T_k A) ⊘ (W^T_k W_kH_k)$ is a matrix of ones we see that when calculating $H_{k+1}$ we multiply every element of $H_k$ by $1$, meaning $H_{k+1}=H_k$, this is known as a fixed point. This happens when $W_kH_k=A$: \n",
    "\n",
    "$$(W^T_k A) ⊘ (W^T_k W_kH_k)=(W^T_k A) ⊘ (W^T_k A).$$\n",
    "\n",
    "We know that ⊘ denotes elementvise division, so we are left with a matrix of the elements in $W^T_k A$ divided by themselves, that is clearly a matrix of ones."
   ]
  },
  {
   "cell_type": "markdown",
   "metadata": {},
   "source": [
    "c) vise blabla\n",
    "\\\n",
    "\\\n",
    "\\\n",
    "\\\\\n",
    "\n",
    "If either $W_0$ or $H_0$ are set to matrices containing only zeros, we can see from **ref Hk+1 Wk+1** that $H_k$ and $W_k$ converges to $0$ regardless of $A$. In other words $WH$ will never converge towards $A$, unless by chance $A$ is also a matrix of zeros. In out implementation we therefore radomise the initial values from the uniform dirstribution between 0 and 1, $U[0, 1]$.\n",
    " "
   ]
  },
  {
   "cell_type": "markdown",
   "metadata": {},
   "source": [
    "**Implementation and testing**\n",
    "\n",
    "We will now implement the NMF algorithm. To avoid division by 0 we will include a safe division constant $\\delta$. "
   ]
  },
  {
   "cell_type": "code",
   "execution_count": 82,
   "metadata": {},
   "outputs": [],
   "source": [
    "#d, e, f\n",
    "\n",
    "def NMF(V, d, delta = 1e-9, maxiter = 1000, seed = 4269):\n",
    "    \"\"\"\n",
    "    Performs maxiter iterations of the NMF algorithm described above to find \n",
    "    matrices W and H such that V ≈ WH. \n",
    "    input:\n",
    "        V: (m,n) input array\n",
    "        d: integer, Number of components we want to decompose V into\n",
    "        delta, float, small number for safe division\n",
    "        maxiter: integer, maximum number of iterations\n",
    "        seed: integer, random seed\n",
    "    output:\n",
    "        W: (m,d) array\n",
    "        H: (d,n) array\n",
    "        err: array of lenght maxiter+1 with Frodenius norms ||V-W_k@H_k||\n",
    "    \"\"\"\n",
    "\n",
    "    if seed != 0:\n",
    "        np.random.seed(seed)\n",
    "        \n",
    "    # Find dimensions of V\n",
    "    m = np.shape(V)[0]\n",
    "    n = np.shape(V)[1]\n",
    "    \n",
    "    # Initialize W and H with numbers from Unif(0, 1), and rescale by factor sqrt(mean(A)/d)\n",
    "    random_numbers_01 = np.random.uniform(0.0, 1.0, m*d+d*n) # we need m*d+d*n numbers\n",
    "    W = np.sqrt(np.mean(V)/d) * random_numbers_01[0:m*d].reshape((m, d))\n",
    "    H = np.sqrt(np.mean(V)/d) * random_numbers_01[m*d:m*d+d*n].reshape((d, n))\n",
    "\n",
    "    # Initialize the array err for storing the Frobenius norm ||V-WH||\n",
    "    err    = np.zeros(maxiter+1)\n",
    "    err[0] = np.linalg.norm(V - np.dot(W, H), 'fro')\n",
    "    \n",
    "    # Perform the iterations\n",
    "    for k in tqdm(range(maxiter), leave = False):\n",
    "        H *= np.dot(W.T, V) / (np.dot(W.T, np.dot(W, H)) + delta)\n",
    "        W *= np.dot(V, H.T) / (np.dot(W, np.dot(H, H.T)) + delta)\n",
    "        err[k+1] = np.linalg.norm(V - np.dot(W, H), 'fro')\n",
    "    \n",
    "    return W, H, err"
   ]
  },
  {
   "cell_type": "markdown",
   "metadata": {},
   "source": [
    "To test that our algorithm works we define the following matrices:\n",
    "\n",
    "$$ \n",
    "A_1 = \\begin{bmatrix} 1 & 0 \\\\ 0 & 1 \\end{bmatrix},\\,\\,\\,\\,\\,\n",
    "A_2 = \\begin{bmatrix} 1 & 2 \\\\ 1 & 1 \\\\ 1 & 2 \\end{bmatrix},\\,\\,\\,\\,\\,\n",
    "A_3 = \\begin{bmatrix} 2 & 1 & 1 \\\\ 2 & 1 & 1 \\\\ 1 & 1 & 2 \\end{bmatrix},\\,\\,\\,\\,\\,\n",
    "A_4 = \\begin{bmatrix} 2 & 1 & 0 \\\\ 1 & 2 & 3 \\\\ 0 & 3 & 3 \\end{bmatrix}.\n",
    "$$\n",
    "\n",
    "We begin by running the algorithm with $d=1$ for $A_1$ and $A_2$ for two differend seeds."
   ]
  },
  {
   "cell_type": "code",
   "execution_count": 83,
   "metadata": {},
   "outputs": [],
   "source": [
    "A1 = np.array([[1, 0],\n",
    "               [0, 1]], dtype = \"float\")\n",
    "\n",
    "A2 = np.array([[1, 2],\n",
    "               [1, 1],\n",
    "               [1, 2]], dtype = \"float\")\n",
    "\n",
    "def A1A2_test(seeds, d = 1, dec = 3):\n",
    "    for seed in seeds:\n",
    "        W1, H1, err1 = NMF(A1, d, seed = seed)\n",
    "        print(f\"With A = A\\u2081 =\\n{np.round(A1, dec)}, \\nwe find W = \\n{np.round(W1, dec)},\",\n",
    "              f\"\\nH = \\n{np.round(H1, dec)}, \\nWH = \\n{np.round(np.dot(W1, H1), dec)}.\")\n",
    "        print(f\"This gives the Frobenius norm ||A\\u2081-WH|| = {err1[-1]}\")\n",
    "        print(100*\"-\")\n",
    "\n",
    "    for seed in seeds:\n",
    "        W2, H2, err2 = NMF(A2, d, seed = seed)\n",
    "        print(f\"With A = A\\u2082 =\\n{np.round(A2, dec)}, \\nwe find W = \\n{np.round(W2, dec)},\",\n",
    "              f\"\\nH = \\n{np.round(H2, dec)}, \\nWH = \\n{np.round(np.dot(W2, H2), dec)}.\")\n",
    "        print(f\"This gives the Frobenius norm ||A\\u2082-WH|| = {err2[-1]}\")\n",
    "\n",
    "        print(100*\"-\")\n",
    "    \n",
    "seeds = [42, 69]\n",
    "# A1A2_test(seeds)"
   ]
  },
  {
   "cell_type": "markdown",
   "metadata": {},
   "source": [
    "Uncommenting the bottom line yields the results presented in the table below. \n",
    "\n",
    "|                |        $A$        |       $W$       |       $H$       |       $WH$      |$\\lVert{A-WH}\\rVert_F$|\n",
    "|:-----------------:|:-----------------:|:-----------------:|:-----------------:|:-----------------:|:-----------------:|\n",
    "| seed 1 | \\begin{bmatrix} 1 & 0 \\\\ 0 & 1 \\end{bmatrix} | \\begin{bmatrix} 0.265 \\\\ 0.672 \\end{bmatrix} | \\begin{bmatrix} 0.507 & 1.288 \\end{bmatrix} | \\begin{bmatrix} 0.134 & 0.341 \\\\ 0.341 & 0.866 \\end{bmatrix} | $1.0$ |  \n",
    "| seed 2 |                                              | \\begin{bmatrix} 0.209 \\\\ 0.572 \\end{bmatrix} | \\begin{bmatrix} 0.564 & 1.541 \\end{bmatrix} | \\begin{bmatrix} 0.118 & 0.323 \\\\ 0.323 & 0.882 \\end{bmatrix} | $1.0$ \n",
    "| seed 1 | \\begin{bmatrix} 1 & 2 \\\\ 1 & 1 \\\\ 1 & 2 \\end{bmatrix} | \\begin{bmatrix} 1.078 \\\\ 0.658 \\\\ 1.078 \\end{bmatrix} | \\begin{bmatrix} 1.021 & 1.803 \\end{bmatrix} | \\begin{bmatrix} 1.1 & 1.943 \\\\ 0.671 & 1.186 \\\\ 1.1 & 1.943 \\end{bmatrix} | $0.411$ |\n",
    "| seed 2 |                                               | \\begin{bmatrix} 0.869 \\\\ 0.530 \\\\ 0.869 \\end{bmatrix} | \\begin{bmatrix} 1.266 & 2.236 \\end{bmatrix} | \\begin{bmatrix} 1.1 & 1.943 \\\\ 0.671 & 1.186 \\\\ 1.1 & 1.943 \\end{bmatrix} | $0.411$ | \n",
    "\n",
    "***DISCUSS***\n",
    "\\\n",
    "\\\n",
    "\\\n",
    "\\\n",
    "\\\n",
    "\\what is same\n",
    "\\\n",
    "\\\n",
    "\\\n",
    "\\\n",
    "\\\n",
    "\n"
   ]
  },
  {
   "cell_type": "code",
   "execution_count": 84,
   "metadata": {},
   "outputs": [],
   "source": [
    "#e\n",
    "# A1A2_test([4269], d = 2, dec = 3)"
   ]
  },
  {
   "cell_type": "markdown",
   "metadata": {},
   "source": [
    "1e)\n",
    "\n",
    "|        $A$        |       $W$       |       $H$       |       $WH$      |$\\lVert{A-WH}\\rVert_F$|\n",
    "|:-----------------:|:-----------------:|:-----------------:|:-----------------:|:-----------------:|\n",
    "| \\begin{bmatrix} 1 & 0 \\\\ 0 & 1 \\end{bmatrix} | \\begin{bmatrix} 0.11 & 0 \\\\ 0 & 0.132 \\end{bmatrix} | \\begin{bmatrix} 9.109 & 0 \\\\ 0 & 7.567 \\end{bmatrix} | \\begin{bmatrix} 1 & 0 \\\\ 0 & 1 \\end{bmatrix} | $1.718\\cdot10^{-10}$ |  \n",
    "| \\begin{bmatrix} 1 & 2 \\\\ 1 & 1 \\\\ 1 & 2 \\end{bmatrix} | \\begin{bmatrix} 0.265 & 0.38 \\\\ 0.079 & 0.463 \\\\ 0.265 & 0.38 \\end{bmatrix} | \\begin{bmatrix} 0.892 & 5.871 \\\\ 2.007 & 1.163 \\end{bmatrix} | \\begin{bmatrix} 1 & 2 \\\\ 1 &  1 \\\\ 1 & 2 \\end{bmatrix} | $6.589\\cdot 10^{-10}$ |"
   ]
  },
  {
   "cell_type": "code",
   "execution_count": 85,
   "metadata": {},
   "outputs": [
    {
     "name": "stdout",
     "output_type": "stream",
     "text": [
      "σ(A₃) = {4.000000000000002, 1.0000000000000002, -5.063800617498565e-16}\n",
      "σ(A₄) = {-0.7577017654507552, 2.0991149902691513, 5.658586775181606}\n",
      "\n",
      "np.linalg.matrix_rank(A3) returns 2\n",
      "np.linalg.matrix_rank(A4) returns 3\n"
     ]
    }
   ],
   "source": [
    "#f FIND ranks\n",
    "A3 = np.array([[2, 1, 1],\n",
    "               [2, 1, 1],\n",
    "               [1, 1, 2]], dtype = \"float\")\n",
    "\n",
    "A4 = np.array([[2, 1, 0],\n",
    "               [1, 2, 3],\n",
    "               [0, 3, 3]], dtype = \"float\")\n",
    "\n",
    "print(f\"\\u03C3(A\\u2083) = \\u007b{np.linalg.eig(A3)[0][0]}, {np.linalg.eig(A3)[0][1]}, {np.linalg.eig(A3)[0][2]}\\u007d\")\n",
    "print(f\"\\u03C3(A\\u2084) = \\u007b{np.linalg.eig(A4)[0][0]}, {np.linalg.eig(A4)[0][1]}, {np.linalg.eig(A4)[0][2]}\\u007d\\n\")\n",
    "\n",
    "print(f\"np.linalg.matrix_rank(A3) returns {np.linalg.matrix_rank(A3)}\")\n",
    "print(f\"np.linalg.matrix_rank(A4) returns {np.linalg.matrix_rank(A4)}\")"
   ]
  },
  {
   "cell_type": "markdown",
   "metadata": {},
   "source": [
    "From the space of eigenvalues, $\\sigma(A_3)$, we see that 0 is an eigenvalue of the matrix $A_3$. It only has two non-zero eigenvalues, and is therefore a rank $2$ matrix. $\\sigma(A_4)$ shows that $A_4$ has three non-zero eigenvalues, so it is a rank 3 matrix.  "
   ]
  },
  {
   "cell_type": "code",
   "execution_count": 86,
   "metadata": {},
   "outputs": [
    {
     "data": {
      "application/vnd.jupyter.widget-view+json": {
       "model_id": "",
       "version_major": 2,
       "version_minor": 0
      },
      "text/plain": [
       "  0%|          | 0/1000 [00:00<?, ?it/s]"
      ]
     },
     "metadata": {},
     "output_type": "display_data"
    },
    {
     "data": {
      "application/vnd.jupyter.widget-view+json": {
       "model_id": "",
       "version_major": 2,
       "version_minor": 0
      },
      "text/plain": [
       "  0%|          | 0/1000 [00:00<?, ?it/s]"
      ]
     },
     "metadata": {},
     "output_type": "display_data"
    },
    {
     "data": {
      "application/vnd.jupyter.widget-view+json": {
       "model_id": "",
       "version_major": 2,
       "version_minor": 0
      },
      "text/plain": [
       "  0%|          | 0/1000 [00:00<?, ?it/s]"
      ]
     },
     "metadata": {},
     "output_type": "display_data"
    },
    {
     "data": {
      "application/vnd.jupyter.widget-view+json": {
       "model_id": "",
       "version_major": 2,
       "version_minor": 0
      },
      "text/plain": [
       "  0%|          | 0/1000 [00:00<?, ?it/s]"
      ]
     },
     "metadata": {},
     "output_type": "display_data"
    },
    {
     "data": {
      "application/vnd.jupyter.widget-view+json": {
       "model_id": "",
       "version_major": 2,
       "version_minor": 0
      },
      "text/plain": [
       "  0%|          | 0/1000 [00:00<?, ?it/s]"
      ]
     },
     "metadata": {},
     "output_type": "display_data"
    },
    {
     "data": {
      "application/vnd.jupyter.widget-view+json": {
       "model_id": "",
       "version_major": 2,
       "version_minor": 0
      },
      "text/plain": [
       "  0%|          | 0/1000 [00:00<?, ?it/s]"
      ]
     },
     "metadata": {},
     "output_type": "display_data"
    },
    {
     "data": {
      "image/png": "[encoded data removed]",
      "text/plain": [
       "<Figure size 1080x288 with 2 Axes>"
      ]
     },
     "metadata": {
      "needs_background": "light"
     },
     "output_type": "display_data"
    }
   ],
   "source": [
    "#g\n",
    "\n",
    "\"\"\"\n",
    "g) For A3 and A4, run the NMF algorithm for d = 1, d = 2 and d = 3 and\n",
    "plot ∥A − WkHk∥F as a function of number of iterations in two separate plots\n",
    "(one for A3 and one for A4). Scale the y-axis logarithmically, using for example\n",
    "plt.semilogy. Is equation (17) satisfied? How do the results depend on d?\n",
    "\"\"\"\n",
    "\n",
    "d_vals = [1, 2, 3]\n",
    "A3_error_arrays = []\n",
    "A4_error_arrays = []\n",
    "for d in d_vals:\n",
    "    A3_error_arrays.append(NMF(A3, d)[2])\n",
    "    A4_error_arrays.append(NMF(A4, d)[2])\n",
    "\n",
    "\n",
    "    \n",
    "### DETTE skal gjøres om til en generell plotfunksjon\n",
    "fig, axs = plt.subplots(1, 2, figsize = (15, 4))\n",
    "for i in range(len(d_vals)):\n",
    "    axs[0].plot(np.log10(A3_error_arrays[i]), label = r\"$d$ = \" + f\"{d_vals[i]}\")\n",
    "    axs[1].plot(np.log10(A4_error_arrays[i]), label = r\"$d$ = \" + f\"{d_vals[i]}\")\n",
    "\n",
    "axs[0].set_title(r\"Using matrix $A_3$\")\n",
    "axs[1].set_title(r\"Using matrix $A_4$\")\n",
    "\n",
    "axs[0].legend(loc = \"upper right\")\n",
    "axs[1].legend(loc = \"upper right\")\n",
    "\n",
    "axs[0].set_xlabel(r\"Iterations, $k$\")\n",
    "axs[0].set_ylabel(r\"log $||A-WH||_F$\")\n",
    "axs[1].set_xlabel(r\"Iterations, $k$\")\n",
    "axs[1].set_ylabel(r\"log $||A-WH||_F$\")\n",
    "\n",
    "\n",
    "figure_count += 1\n",
    "txt = f\"$Figure$ ${figure_count}$: \" + r\"log of Frobenius norm $||A-WH||_F$ for different d.\"\n",
    "plt.figtext(0.5, -0.1, txt, wrap=True, horizontalalignment='center', fontsize = 16)\n",
    "plt.show()\n"
   ]
  },
  {
   "cell_type": "markdown",
   "metadata": {},
   "source": [
    "From the plots we see ...\n",
    "\n",
    "Satisfy ***REF***\n",
    "\n",
    "$$\\lVert A - W_{k+1}H_{k+1} \\rVert_F \\leqslant \\lVert A - W_kH_k \\rVert_F$$\n",
    "\n",
    "***Discuss d dependence***\n"
   ]
  },
  {
   "cell_type": "markdown",
   "metadata": {},
   "source": [
    "We have now developed the tools necessary to begin exploring a larger dataset. "
   ]
  },
  {
   "cell_type": "markdown",
   "metadata": {},
   "source": [
    "## (TASK 2) Analysing the CryptoPunks dataset <a class=\"anchor\" id=\"dataset\"></a>"
   ]
  },
  {
   "cell_type": "markdown",
   "metadata": {},
   "source": [
    "We will now turn our attention to image ... ...\n",
    "\n",
    "***EXPLAin how images are stored +++, page 13 in task***\n",
    "\\\n",
    "\\\n",
    "\\\n",
    "\\\n",
    "\\\n",
    "\\\n",
    "\n",
    "\n"
   ]
  },
  {
   "cell_type": "markdown",
   "metadata": {},
   "source": [
    "The dataset for this project consists of 10 000 images. Of these we will sample $N=500$ random images to ensure we get unique results. We use a predeterminded seed to ensure the results won't change if the notebook is restarted. The load_images function was handed out, but has been modified slightly to pick images before loading them into the notebook. ***LATER WE WILL VARY N???*** "
   ]
  },
  {
   "cell_type": "code",
   "execution_count": 87,
   "metadata": {},
   "outputs": [
    {
     "name": "stdout",
     "output_type": "stream",
     "text": [
      "The face array has shape:  (24, 24, 4, 500)\n"
     ]
    }
   ],
   "source": [
    "def load_images(N, seed = 4269):\n",
    "    \"\"\"\n",
    "    Loads N random images from cryptopunk dataset. Use the same seed to get the same\n",
    "    selection each time. \n",
    "    Input:\n",
    "        integer: N, number of images to load\n",
    "        integer: seed for random sampling\n",
    "    Output:\n",
    "        array: faces, (24,24,4,N) numpy array containing images\n",
    "    \"\"\"\n",
    "    # Allocate array to store images\n",
    "    faces = np.zeros((24,24,4,N))\n",
    "\n",
    "    # Chose N random image numbers\n",
    "    M = 10000 # number of images to choose from\n",
    "    np.random.seed(seed)\n",
    "    image_number_choice = np.random.choice(np.arange(0, M),N, replace = False)\n",
    "        \n",
    "    # Iterate over folders\n",
    "    for i in range(len(image_number_choice)):\n",
    "        im_path = f\"./imgs/imgs/imgs/{image_number_choice[i]}.png\"\n",
    "        im = cv2.imread(im_path, cv2.IMREAD_UNCHANGED)\n",
    "        faces[:,:,:,i] = cv2.cvtColor(im, cv2.COLOR_BGRA2RGBA)/255.0\n",
    "\n",
    "    return faces\n",
    "\n",
    "# Load N = 500 faces\n",
    "faces500 = load_images(500)\n",
    "\n",
    "# Check that the shape is correct\n",
    "print(\"The face array has shape: \", faces500.shape)"
   ]
  },
  {
   "cell_type": "markdown",
   "metadata": {},
   "source": [
    "Below is handed-out code for plotting the images we have loaded. "
   ]
  },
  {
   "cell_type": "code",
   "execution_count": 88,
   "metadata": {},
   "outputs": [],
   "source": [
    "def plotimgs(imgs, nplot = 8, rescale = False, filename = None, figsize = (16, 16), number_color = \"black\"):\n",
    "    \"\"\"\n",
    "    Plots nplot*nplot images on an nplot x nplot grid. \n",
    "    Saves to given filename if filename is given\n",
    "    Can also rescale the RGB channels\n",
    "    input:\n",
    "        imgs: (24,24,4,N) or (24,24,3,N) array containing images, where N > nplot**2\n",
    "        nplot: integer, nplot**2 images will be plotted\n",
    "        rescale: bool\n",
    "        filename: string, figure will be saved to this location. Should end with \".png\".\n",
    "    \"\"\"\n",
    "    # We will change some of the parameters of matplotlib, so we store the initial ones\n",
    "    oldparams = plt.rcParams['figure.figsize']\n",
    "\n",
    "    # New params to make better plot. There definitely exists better ways of doing this\n",
    "    plt.rcParams['figure.figsize'] = figsize\n",
    "\n",
    "    # Initialize subplots\n",
    "    fig, axes = plt.subplots(nplot,nplot)\n",
    "\n",
    "    # Set background color\n",
    "    plt.gcf().set_facecolor(\"lightgrey\")\n",
    "\n",
    "    # Iterate over images\n",
    "    for idx in range(nplot**2):\n",
    "        \n",
    "        # Indices\n",
    "        i = idx//nplot; j = idx%nplot\n",
    "\n",
    "        # Remove axis\n",
    "        if nplot > 1:\n",
    "            axes[i,j].axis('off')\n",
    "        else:\n",
    "            axes.axis('off')\n",
    "\n",
    "        # Rescale RGB channels by dividing my maximal value\n",
    "        if rescale:\n",
    "            scaled_img = np.copy(imgs[:,:,:,idx])\n",
    "            scaled_img[:,:,:3] = scaled_img[:,:,:3]/np.max(scaled_img[:,:,:3])\n",
    "            if nplot > 1:\n",
    "                axes[i,j].imshow(scaled_img)\n",
    "            else:\n",
    "                axes.imshow(scaled_img)\n",
    "        else:\n",
    "            if nplot > 1:\n",
    "                axes[i,j].imshow(imgs[:,:,:,idx])\n",
    "            else:\n",
    "                axes.imshow(imgs[:,:,:])\n",
    "        \n",
    "        # Add numbers to each image\n",
    "        if nplot > 1 and number_color:\n",
    "            axes[i, j].text(0, 4, f\"{idx+1}\", color = number_color, fontsize = 20)\n",
    "\n",
    "    # Tight layout so images will appear closer together\n",
    "    plt.tight_layout()\n",
    "    \n",
    "    # Save if filename is given\n",
    "    if filename is not None:\n",
    "        plt.savefig(filename)\n",
    "\n",
    "    plt.show()\n",
    "\n",
    "    # Return to old parameters\n",
    "    plt.rcParams['figure.figsize'] = oldparams\n",
    "\n",
    "def plotimgs_merge(filetitles, merged_title, image_texts = [\"a)\", \"b)\", \"c)\"]):\n",
    "    \"\"\"\n",
    "    Plots images side by side. This lets us combine images and serves as a workaround to \n",
    "    jupyters limitation of one image attachment per markdown cell.\n",
    "    input:\n",
    "        filetitles: list of titles of images to plot\n",
    "    \"\"\"\n",
    "    num_of_imgs = len(filetitles) # Number of images\n",
    "    size = 200 # x and y dimension of images produced with figsize (16, 16)\n",
    "\n",
    "    # Load images\n",
    "    images = [Image.open(filetitle + \".png\") for filetitle in filetitles]\n",
    "    \n",
    "    # Resize and merge the images\n",
    "    x_size = int(size*(1+1/20))*num_of_imgs + int(size*(1/20))\n",
    "    y_size = int(size*(1+3/20)) # double space below for figtext\n",
    "    \n",
    "    merged_Image = Image.new('RGB', (x_size, y_size), (250, 250, 250))\n",
    "    for index, image in enumerate(images):\n",
    "        # Resize image\n",
    "        image = image.resize((size, size))\n",
    "        \n",
    "        # Place image in merged image\n",
    "        x_coord = int(size*(1+1/20))*index + int(size*(1/20))\n",
    "        y_coord = int(size*(2/20))\n",
    "        merged_Image.paste(image, (x_coord, y_coord))\n",
    "        \n",
    "    # Add text above each image:\n",
    "    draw = ImageDraw.Draw(merged_Image)\n",
    "    for index, text in enumerate(image_texts):\n",
    "        x_coord = int(size*(1/20) + size/2) + index*(size*(1+1/20))\n",
    "        y_coord = int(size*(1/20))\n",
    "        draw.text((x_coord, y_coord), text, (0,0,0))\n",
    "    \n",
    "    # Save image\n",
    "    merged_Image.save(merged_title + \".png\",\"PNG\")\n",
    "    \n",
    "plotimgs_merge([\"punks_basis_d16\", \"punks_basis_d64\", \"punks_basis_d144\"], \"basises\")\n",
    "plotimgs_merge([\"16punks_d16\", \"16punks_d64\", \"16punks_d144\"], \"multiple_16punks\")\n",
    "\n",
    "\n",
    "\n",
    "## MULIGHET for å skrive på a), b), c) etc...\n",
    "from PIL import Image\n",
    "from PIL import ImageFont\n",
    "from PIL import ImageDraw \n",
    "\n",
    "img = Image.open(\"merged_image.jpg\")\n",
    "draw = ImageDraw.Draw(img)\n",
    "draw.text((0, 0),\"Sample Text\",(0,0,0))\n",
    "img.save('sample-out.jpg')\n",
    "\n"
   ]
  },
  {
   "cell_type": "code",
   "execution_count": null,
   "metadata": {},
   "outputs": [],
   "source": []
  },
  {
   "cell_type": "markdown",
   "metadata": {},
   "source": [
    "**First look at the dataset**"
   ]
  },
  {
   "cell_type": "markdown",
   "metadata": {},
   "source": [
    "2a) We now have all we need to investigate ..."
   ]
  },
  {
   "cell_type": "code",
   "execution_count": 89,
   "metadata": {},
   "outputs": [],
   "source": [
    "# plotimgs(faces500, nplot = 8, filename=\"punks_2a.png\")"
   ]
  },
  {
   "cell_type": "markdown",
   "metadata": {},
   "source": [
    "The code above gives the image below. \n",
    "\n",
    "<img src=punks_2a.png alt=\"Drawing\" style=\"width: 500px;\"/>\n",
    "\n",
    "We observe ... \n",
    "\n",
    "COMMENTs on 2a)"
   ]
  },
  {
   "cell_type": "markdown",
   "metadata": {},
   "source": [
    "**Converting the dataset**\n",
    "\n",
    "To apply NMF we want to turn our (24, 24, 4, 500) array into a $m\\times n$ matrix. For this project we only care about the color channels. We will therefore split the RGBA images into a RGB array of shape (24, 24, 3, 500) and a opacity array (24, 24, 1, 500) wich we store for the plotting the reconstructed images after running out algorithm. Below we define a function to split the channels and reshape the RGB array into a $1728\\times N$ matrix. We also define a function to reshape a $1728\\times N$ back into an RGB array, and optionaly remerge with the opacity."
   ]
  },
  {
   "cell_type": "code",
   "execution_count": 90,
   "metadata": {},
   "outputs": [
    {
     "name": "stdout",
     "output_type": "stream",
     "text": [
      "The reshaped face array has shape:  (1728, 500)\n",
      "The remerged face array has shape:  (24, 24, 4, 500)\n"
     ]
    }
   ],
   "source": [
    "def split_and_reshape(faces):\n",
    "    #input: 24x24x4xN array of stored images\n",
    "    #output: 1728xN array of with rgb values for the images without opacity, 24x24x500 array of opacity for images \n",
    "    faces_opacity = faces[:,:,3,:]\n",
    "    faces_rgb = faces[:,:,:3,:]\n",
    "    shape = faces_rgb.shape\n",
    "    \n",
    "    # Clever reshape \"trick\". This is the matrix we will apply the NMF to\n",
    "    N = faces.shape[-1]\n",
    "    faces_reshaped = faces_rgb.reshape(np.prod(shape)//N, N)\n",
    "    \n",
    "    return faces_reshaped, faces_opacity\n",
    "\n",
    "def merge_and_reshape(reshaped, opacity = np.array([])):\n",
    "    #input: 1728xN array of with rgb values for the images without opacity, 24x24xN array of opacity for images \n",
    "    #output: 24x24x4xN array of images\n",
    "    N = int(reshaped.size/1728)\n",
    "    faces = np.reshape(reshaped, (24,24,3,N))\n",
    "    if opacity.size > 0:\n",
    "        opacity = np.reshape(opacity, (24,24,1,N))\n",
    "        faces = np.concatenate((faces, opacity), axis=2)\n",
    "    \n",
    "    faces = np.where(faces<=1, faces, 1)\n",
    "    \n",
    "    return faces\n",
    "\n",
    "# We reshape the faces with our function\n",
    "faces500_reshaped, opacity500 = split_and_reshape(faces500)\n",
    "\n",
    "# Check that the shape is correct\n",
    "print(\"The reshaped face array has shape: \", faces500_reshaped.shape)\n",
    "\n",
    "# Test the merge_and_reshape function\n",
    "faces500_merge_test = merge_and_reshape(faces500_reshaped, opacity500)\n",
    "print(\"The remerged face array has shape: \", faces500_merge_test.shape)\n",
    "# plotimgs(faces_merge_test, 8, filename=\"merge_testpunks.png\")"
   ]
  },
  {
   "cell_type": "markdown",
   "metadata": {},
   "source": [
    "We\n",
    "\\\n",
    "\\\n",
    "\\\n",
    "\\\n",
    "\\\n",
    "\\\n",
    "\\\n",
    "\\\n",
    "\n",
    "\n",
    "\n",
    "\n"
   ]
  },
  {
   "cell_type": "markdown",
   "metadata": {},
   "source": [
    "**The *average* face**"
   ]
  },
  {
   "cell_type": "markdown",
   "metadata": {},
   "source": [
    "2b) We first ... calculate mean ... usefull?"
   ]
  },
  {
   "cell_type": "code",
   "execution_count": 91,
   "metadata": {},
   "outputs": [
    {
     "name": "stdout",
     "output_type": "stream",
     "text": [
      "np.linalg.matrix_rank(faces500_reshaped) returns 377\n",
      "\n",
      "\n",
      "\n",
      "\n",
      "(24, 24, 4, 500)\n",
      "(24, 24, 4)\n"
     ]
    },
    {
     "data": {
      "image/png": "[encoded data removed]",
      "text/plain": [
       "<Figure size 216x216 with 1 Axes>"
      ]
     },
     "metadata": {},
     "output_type": "display_data"
    },
    {
     "data": {
      "image/png": "[encoded data removed]",
      "text/plain": [
       "<Figure size 216x216 with 1 Axes>"
      ]
     },
     "metadata": {},
     "output_type": "display_data"
    }
   ],
   "source": [
    "print(f\"np.linalg.matrix_rank(faces500_reshaped) returns {np.linalg.matrix_rank(faces500_reshaped)}\\n\\n\\n\\n\")\n",
    "\n",
    "### np.linalg.svd(faces500_reshaped) SKAL vi fikse den? \n",
    "# https://mattelab2022v.math.ntnu.no/t/project-3-task-2b/1212/2\n",
    "\n",
    "\n",
    "#2b) The mean face\n",
    "\n",
    "\n",
    "print(faces500.shape)\n",
    "mean_face = np.mean(faces500, axis = -1)\n",
    "print(mean_face.shape)\n",
    "plotimgs(mean_face, 1, filename=\"meanface.png\", figsize = (3, 3))\n",
    "\n",
    "\n",
    "mean_face[:,:,0] = mean_face[:, :, 3] == 0\n",
    "mean_face[:,:,1] = mean_face[:, :, 3] == 0\n",
    "mean_face[:,:,2] = mean_face[:, :, 3] == 0\n",
    "mean_face[:, :, 3] = 1\n",
    "plotimgs(mean_face, 1, filename=\"0avg.png\", figsize = (3, 3)) # hvit betyr her gjennomsnitt lik 0\n",
    "\n",
    "\n"
   ]
  },
  {
   "cell_type": "markdown",
   "metadata": {},
   "source": [
    "2b) \n",
    "\n",
    "Useful info?\n",
    "\n",
    "Pixels with no opacity for all?\n",
    "\n",
    "Rank of image matrix???"
   ]
  },
  {
   "cell_type": "markdown",
   "metadata": {},
   "source": [
    "**NMF with $d=64$**"
   ]
  },
  {
   "cell_type": "markdown",
   "metadata": {},
   "source": [
    "2c)\n",
    "\n",
    "***c) Calculate the NMF of the 3 color channels as explained above using d = 64. Plot\n",
    "the columns of W interpreted as RGB images (each columns should be a 24×24×3\n",
    "vector so you can use the handed out plotting function after reshaping). Explain\n",
    "and discuss what you see. Does the NMF capture the important features of the\n",
    "dataset? You can also try with different values for d to see how this affects the\n",
    "results.***"
   ]
  },
  {
   "cell_type": "code",
   "execution_count": 92,
   "metadata": {},
   "outputs": [],
   "source": [
    "#2c, 2d\n",
    "\n",
    "def reconstruction_images(d, maxiter = 1000, N = 500, basis_color = False, faces_to_plot=8):\n",
    "    # Load and Reshape\n",
    "    faces_reshaped_d, opacity_d = split_and_reshape(load_images(N))\n",
    "    \n",
    "    # Perform NMF algorithm\n",
    "    W_d, H_d, err_d = NMF(faces_reshaped_d, d, maxiter = maxiter)\n",
    "    \n",
    "    # Reshape and plot basis\n",
    "    W_columns_d = merge_and_reshape(W_d) \n",
    "    plotimgs(W_columns_d, int(d**(1/2)), filename=f\"punks_basis_d{d}.png\", number_color = basis_color)\n",
    "\n",
    "    # Reshape and plot faces\n",
    "    img_reconstructed_d = merge_and_reshape(np.dot(W_d, H_d), opacity)\n",
    "    plotimgs(img_reconstructed_d, faces_to_plot, filename=f\"{faces_to_plot**2}punks_d{d}.png\")\n",
    "    \n",
    "# reconstruction_images(8**2, basis_color = \"white\")\n",
    "\n",
    "# # Trying different d values\n",
    "# reconstruction_images(4**2, faces_to_plot=4)\n",
    "# reconstruction_images(8**2, faces_to_plot=4)\n",
    "# reconstruction_images(12**2, faces_to_plot=4)"
   ]
  },
  {
   "cell_type": "markdown",
   "metadata": {},
   "source": [
    "The code above ...\n",
    "\n",
    "<img src=punks_basis_d64.png alt=\"Drawing\" style=\"width: 500px;\"/>\n",
    "\n",
    "\n",
    "We also tried different values for $d$:\n"
   ]
  },
  {
   "cell_type": "markdown",
   "metadata": {},
   "source": [
    "**Global and local minima**\n",
    "\n",
    "***Vi bør kanskje si noe om vi tror vi treffer global??***\n",
    "\n",
    "\\\n",
    "\n",
    "\\\\\n",
    "\\\n",
    "\\\n",
    "\\\n",
    "\\\n",
    "\\\n",
    "\\\n",
    "\n"
   ]
  },
  {
   "cell_type": "code",
   "execution_count": 102,
   "metadata": {},
   "outputs": [
    {
     "name": "stdout",
     "output_type": "stream",
     "text": [
      "38.795608818092425\n"
     ]
    },
    {
     "data": {
      "image/png": "[encoded data removed]",
      "text/plain": [
       "<Figure size 432x288 with 1 Axes>"
      ]
     },
     "metadata": {
      "needs_background": "light"
     },
     "output_type": "display_data"
    }
   ],
   "source": [
    "## KUNNE vi brukt en bedre seed??\n",
    "\n",
    "def seed_test(number_of_seeds = 100, maxiter = 1000, d = 64, N = 500, seed = 4269, data_title = False):\n",
    "    \n",
    "    # Load and split faces\n",
    "    faces_reshaped_s = split_and_reshape(load_images(N))[0] # index 1 is the opacity channel\n",
    "    \n",
    "    # Prepare array of seeds\n",
    "    np.random.seed(seed)\n",
    "    seeds = np.random.randint(4269, size = number_of_seeds)\n",
    "    \n",
    "    # Initialise list to store the different reconstructions errors\n",
    "    reconstruction_errors = []\n",
    "    \n",
    "    # Do NMF simulation and append reconstruction for each seed\n",
    "    for i in tqdm(range(number_of_seeds)):\n",
    "        W_s, H_s, err_s = NMF(faces_reshaped_s, d, maxiter = maxiter, seed = seeds[i])\n",
    "        reconstruction_errors.append(err_s[-1])\n",
    "    \n",
    "    # Save the data\n",
    "    if data_title:\n",
    "        np.savez(data_title, seeds = seeds, reconstruction_errors = reconstruction_errors)\n",
    "\n",
    "# seed_test(data_title = \"100seeds.npz\")\n",
    "reconstruction_errors = np.load(\"100seeds.npz\")[\"reconstruction_errors\"]\n",
    "\n",
    "# Plot histogram\n",
    "plt.hist(reconstruction_errors)\n",
    "print(min(reconstruction_errors)"
   ]
  },
  {
   "cell_type": "markdown",
   "metadata": {},
   "source": [
    "2c) important features"
   ]
  },
  {
   "cell_type": "markdown",
   "metadata": {},
   "source": [
    "2d) \n",
    "\n",
    "***d) With d = 64, calculate the 64 reconstructions W H corresponding to the images\n",
    "you plotted in 2a) and plot the reconstructions (again, you can use the handed out\n",
    "plotting function after reshaping). Are the reconstructions overall good? How do\n",
    "the reconstructions deviate from the original images (if they deviate at all)? In\n",
    "particular, are all features of the images equally well reconstructed?***"
   ]
  },
  {
   "cell_type": "markdown",
   "metadata": {},
   "source": [
    "\n",
    "**Reconstructing the dataset**\n",
    "\n",
    "|d=16|d=64|d=144|\n",
    ":-------------------------:|:-------------------------:|:-------------------------:\n",
    "<img src=16punks_d16.png alt=\"Drawing\" style=\"width: 500px;\"/>  |  <img src=16punks_d64.png alt=\"Drawing\" style=\"width: 500px;\"/>  |  <img src=16punks_d144.png alt=\"Drawing\" style=\"width: 500px;\"/>  |\n"
   ]
  },
  {
   "cell_type": "markdown",
   "metadata": {},
   "source": [
    "Discuss deviation"
   ]
  },
  {
   "cell_type": "markdown",
   "metadata": {},
   "source": [
    "**Convergence**\n",
    "\n",
    "2e) \n",
    "\n",
    "***e) For each iteration k, calculate ∥A−WkHk∥F and plot it as a function of iterations\n",
    "similarily to what you did in Task 1, but now for d = 16, 32, 64. Are the results\n",
    "reasonable? Does it look like the algorithm has converged?***"
   ]
  },
  {
   "cell_type": "code",
   "execution_count": 101,
   "metadata": {},
   "outputs": [
    {
     "data": {
      "application/vnd.jupyter.widget-view+json": {
       "model_id": "",
       "version_major": 2,
       "version_minor": 0
      },
      "text/plain": [
       "  0%|          | 0/1000 [00:00<?, ?it/s]"
      ]
     },
     "metadata": {},
     "output_type": "display_data"
    },
    {
     "name": "stdout",
     "output_type": "stream",
     "text": [
      "39.62027723133324\n"
     ]
    }
   ],
   "source": [
    "#2e) \n",
    "\n",
    "def error_sim(faces_reshaped, maxiter = 1000, d_vals = [16, 32, 64]):\n",
    "    image_error_arrays = []\n",
    "    for d in tqdm(d_vals, leave = False):\n",
    "        image_error_arrays.append(NMF(faces_reshaped, d, maxiter = maxiter)[2]) # øke maxiter\n",
    "\n",
    "    ### DETTE skal gjøres om til en generell plotfunksjon\n",
    "    fig, ax = plt.subplots(figsize = (15, 4))\n",
    "    for i in range(len(d_vals)):\n",
    "        ax.plot(np.log10(image_error_arrays[i]), label = r\"$d$ = \" + f\"{d_vals[i]}\")\n",
    "\n",
    "    ax.legend(loc = \"upper right\")\n",
    "    ax.set_xlabel(r\"Iterations, $k$\")\n",
    "    ax.set_ylabel(r\"log $||A-WH||_F$\")\n",
    "\n",
    "    figure_count = 2\n",
    "    txt = f\"$Figure$ ${figure_count}$: \" + r\"log of Frobenius norm $||A-WH||_F$ for different d for ........\"\n",
    "    plt.figtext(0.5, -0.1, txt, wrap=True, horizontalalignment='center', fontsize = 16)\n",
    "    plt.show()\n",
    "\n",
    "# error_sim(faces500_reshaped, maxiter = 1000)"
   ]
  },
  {
   "cell_type": "markdown",
   "metadata": {},
   "source": [
    "2e) discuss"
   ]
  },
  {
   "cell_type": "markdown",
   "metadata": {},
   "source": [
    "**2f) Reconstruction error and feature number $d$**\n",
    "\n",
    "We will now do NMF calculation for a wide range of $d$ to investigate how the reconstruction error, $\\lvert\\lvert A - WH \\rvert\\rvert_F$. We expect that the error is reduced as we capture more features in matrix $W$. \n",
    "\\\n",
    "\\\n",
    "\\\n",
    "\\\n",
    "\\\n",
    "\\\n",
    "\\\n",
    "\\\n",
    "\\\n",
    "\n",
    "***f) For a wide range of d, for example d = 16, 64, 128, 256, do an NMF and calculate\n",
    "∥A−W H∥F\n",
    "9\n",
    ". Make sure you are using a high number of maximum iterations (at\n",
    "least 1000 iterations), and if your computing resources and time allows it, try to\n",
    "use more values for d. Plot this quantity as a function of d. Discuss the resulting\n",
    "plot. Specifically, how would you expect ∥A − W H∥F to depend on d?***"
   ]
  },
  {
   "cell_type": "code",
   "execution_count": 78,
   "metadata": {},
   "outputs": [
    {
     "data": {
      "text/plain": [
       "[<matplotlib.lines.Line2D at 0x2802558b3d0>]"
      ]
     },
     "execution_count": 78,
     "metadata": {},
     "output_type": "execute_result"
    },
    {
     "data": {
      "image/png": "[encoded data removed]",
      "text/plain": [
       "<Figure size 432x288 with 1 Axes>"
      ]
     },
     "metadata": {
      "needs_background": "light"
     },
     "output_type": "display_data"
    }
   ],
   "source": [
    "#2f)\n",
    "\n",
    "def final_error_sim(d_vals, N = 500, maxiter = 1000, noise_level = 0, data_title = False):\n",
    "    \n",
    "    # Load, reshape and add noise to images\n",
    "    faces_es          = load_images(N)\n",
    "    faces_reshaped_es = split_and_reshape(faces_es)[0]\n",
    "    faces_r_noisy_es  = split_and_reshape(faces_es)[0] # We need faces_reshaped_es for error comparison\n",
    "    \n",
    "    # We add this possibility to reuse the function later. \n",
    "    if noise_level != 0:\n",
    "        faces_r_noisy_es = add_noise(faces_reshaped_es, noise_level)\n",
    "    \n",
    "    # Initialise arrays for final errors\n",
    "    final_error_es = np.zeros(len(d_vals))\n",
    "\n",
    "    # We do the simulation for all the d values\n",
    "    for i in tqdm(range(len(d_vals)), leave = False):\n",
    "        W_es, H_es, err_es = NMF(faces_r_noisy_es, d_vals[i], maxiter = maxiter)\n",
    "        final_error_es[i]  = np.linalg.norm(faces_reshaped_es - np.dot(W_es, H_es), 'fro')\n",
    "    \n",
    "    ## SAVE DATA\n",
    "    if data_title:\n",
    "        np.savez(data_title, d_vals=d_vals, final_error = final_error_es)\n",
    "        \n",
    "    return final_error\n",
    "    \n",
    "# ## To run this cell uncomment the line below. Warning: run at own risk. Reduce some parametres to reduce rumtime.\n",
    "# maxiter = 1000\n",
    "# d_vals = [i**2 for i in range(2, 22)]\n",
    "# final_error = final_error_sim(d_vals, maxiter = maxiter)#, data_title = \"2f.npz\")\n",
    "\n",
    "# Load data from commented line\n",
    "data = np.load(\"2f.npz\")\n",
    "d_vals      = data['d_vals']\n",
    "final_error = data['final_error']\n",
    "\n",
    "# Plot the results\n",
    "######## PLOT FUNCTION HERE\n",
    "plt.plot(data['d_vals'], data['final_error'])\n"
   ]
  },
  {
   "cell_type": "markdown",
   "metadata": {},
   "source": [
    "2f) discuss"
   ]
  },
  {
   "cell_type": "markdown",
   "metadata": {},
   "source": [
    "## (Task 3) Denoising <a class=\"anchor\" id=\"denoising\"></a>"
   ]
  },
  {
   "cell_type": "markdown",
   "metadata": {},
   "source": [
    "We will now add noise ..."
   ]
  },
  {
   "cell_type": "markdown",
   "metadata": {},
   "source": [
    "We model the noise as:\n",
    "\n",
    "$$A_{\\textrm{noisy}} = A + \\sigma E,$$\n",
    "\n",
    "where $\\sigma > 0 $ is our *noise level*, and $E$ sampled from $\\mathcal{N}(0, 1)$. Below is the handed out function to add noise to the images."
   ]
  },
  {
   "cell_type": "code",
   "execution_count": null,
   "metadata": {},
   "outputs": [],
   "source": [
    "def add_noise(imgs_reshaped, sigma = 0.1, seed = 4269):\n",
    "    \"\"\"\n",
    "    Adds gaussian noise to images as described in text.\n",
    "    Note that imgs must be given as a (24*24*3, N) numpy array, i.e the reshaped images\n",
    "    Input:\n",
    "        imgs_reshaped: (1728,N) numpy array\n",
    "        sigma: scalar, noise level\n",
    "    Output:\n",
    "        noisy_faces: (1728,N) numpy array containing noisy images\n",
    "    \"\"\"\n",
    "    # Array that will store the rgb channels of the noisy images\n",
    "    noisy_faces = np.copy(imgs_reshaped)\n",
    "\n",
    "    # Number of noisy values we need\n",
    "    nnzero = imgs_reshaped[np.nonzero(imgs_reshaped)].shape[0]\n",
    "\n",
    "    # Sample noisy values and add noise\n",
    "    np.random.seed(seed)\n",
    "    noise = np.random.normal(0.0,1,nnzero)\n",
    "    noisy_faces[np.nonzero(imgs_reshaped)] += sigma*noise\n",
    "\n",
    "    # Clip to lie between 0 and 1 so that we can still interpret them as images\n",
    "    noisy_faces = np.maximum(0.0,np.minimum(1.0, noisy_faces))\n",
    "\n",
    "    return noisy_faces"
   ]
  },
  {
   "cell_type": "markdown",
   "metadata": {},
   "source": [
    "***Vi kan nå legge til støy til bildene våre, legge på opasitetskanalaen igjen og plotte. Dere må gjøre noe lignende etter dere har anvendt NMF og ønsker å plotte rekonstruksjoner med opasitet.***"
   ]
  },
  {
   "cell_type": "markdown",
   "metadata": {},
   "source": [
    "3a)\\ \n",
    "\\\n",
    "\\\n",
    "\\\n",
    "\\\n",
    "\\\n",
    "\n"
   ]
  },
  {
   "cell_type": "code",
   "execution_count": null,
   "metadata": {},
   "outputs": [],
   "source": [
    "faces500_reshaped_noisy = add_noise(faces500_reshaped, sigma = 0.1)\n",
    "\n",
    "# Calculate the error of the noisy images\n",
    "noise500_error = np.linalg.norm(faces500_reshaped_noisy - faces500_reshaped, 'fro') \n",
    "print(noise500_error)\n",
    "\n",
    "# For plotting noisy images we add the opacity\n",
    "faces500_noisy = merge_and_reshape(faces500_reshaped_noisy, opacity500)\n",
    "plotimgs(faces500_noisy)"
   ]
  },
  {
   "cell_type": "markdown",
   "metadata": {},
   "source": []
  },
  {
   "cell_type": "markdown",
   "metadata": {},
   "source": [
    "**NMF -> ADD COOLER TITLEs**"
   ]
  },
  {
   "cell_type": "markdown",
   "metadata": {},
   "source": [
    "3b) \n",
    "\n",
    "***• b) Using the same approach as task 2, fit an NMF using d = 64 to the noisy images.\n",
    "Plot the columns of W and the reconstructions like you did in 2c) and 2d). Are\n",
    "the reconstructions less noisy than the noisy images? Compare the columns of W\n",
    "and the reconstructions to the results you got in task 2.***"
   ]
  },
  {
   "cell_type": "code",
   "execution_count": null,
   "metadata": {},
   "outputs": [],
   "source": [
    "d = 64\n",
    "W_noisy, H_noisy, err_noisy = NMF(faces_reshaped_noisy, d, maxiter = 100) # øke maxiter!!\n",
    "\n",
    "W_columns_noisy = merge_and_reshape(W_noisy)\n",
    "plotimgs(W_columns_noisy, 8, filename=\"punks_basis_noisy.png\", figsize = (12, 12))\n",
    "\n",
    "images_noisy_reborn = merge_and_reshape(np.dot(W_noisy, H_noisy), opacity)\n",
    "plotimgs(images_noisy_reborn, 8, filename=\"punks.png\", figsize = (12, 12))\n"
   ]
  },
  {
   "cell_type": "markdown",
   "metadata": {},
   "source": []
  },
  {
   "cell_type": "markdown",
   "metadata": {},
   "source": [
    "**sss**"
   ]
  },
  {
   "cell_type": "markdown",
   "metadata": {},
   "source": [
    "3c) \n",
    "\n",
    "***c) As you did in task 2, fit an NMF to the noisy images for a wide range of d,\n",
    "calculate the reconstruction error ∥A − W H∥F (important: A is here the original\n",
    "images, NOT the noisy images). Plot this with the error you calculated in 2f),\n",
    "where noiseless images were used. If you have a large enough range of d and large\n",
    "enough noise you should see that the reconstruction error for the noisy images\n",
    "is somewhere between ”U”-shaped and ”L”-shaped, and at some point the error\n",
    "should increase for large enough d. Explain why the plot looks like this (try to\n",
    "include the words ”underfitting” and ”overfitting”). Approximately, what value of\n",
    "d is the ”best fit”, that provides the lowest reconstruction error?***\n"
   ]
  },
  {
   "cell_type": "code",
   "execution_count": null,
   "metadata": {},
   "outputs": [],
   "source": [
    "# BIG SIMULATION TIME\n",
    "# We load N images, with N chosen from this array\n",
    "N_vals = [250, 500, 750, 1000]\n",
    "\n",
    "maxiter     = 800\n",
    "noise_level = 0.1\n",
    "number_of_d = 80\n",
    "\n",
    "for N in tqdm(N_vals):\n",
    "#     # We can choose d from 2 to the largest possible value\n",
    "#     d_vals = [i**2 for i in range(2, int(np.ceil(np.sqrt(min(1728, N)))))]\n",
    "    \n",
    "    # It is better to only consider d's that reduse the total number of elements:\n",
    "    d_vals = np.linspace(64, np.floor(1728*N/(1728+N)), number_of_d, dtype = 'int')\n",
    "    \n",
    "    \n",
    "    # Load, reshape and add noise to images\n",
    "    faces_es                = load_images(N)\n",
    "    faces_reshaped_es       = split_and_reshape(faces_es)[0]\n",
    "    faces_reshaped_noisy_es = add_noise(faces_reshaped_es, noise_level)\n",
    "    \n",
    "    # Initialise arrays for final errors\n",
    "    final_error_noisy_es = np.zeros(len(d_vals))\n",
    "    final_error_es       = np.zeros(len(d_vals))\n",
    "    \n",
    "    for i in tqdm(range(len(d_vals)), leave = False):\n",
    "        # NMF with noise removal\n",
    "        W_n, H_n, err_n         = NMF(faces_reshaped_noisy_es, d_vals[i], maxiter = maxiter)\n",
    "        final_error_noisy_es[i] = np.linalg.norm(faces_reshaped_es - np.dot(W_n, H_n), 'fro')\n",
    "\n",
    "        # NMF without noise removal\n",
    "        W, H, err         = NMF(faces_reshaped_es, d_vals[i], maxiter = maxiter)    \n",
    "        final_error_es[i] = err[-1]\n",
    "\n",
    "    plt.plot(d_vals, final_error_noisy_es, label = \"noisy\")\n",
    "    plt.plot(d_vals, final_error_es, label = \"no noise\")\n",
    "    plt.legend()\n",
    "    plt.savefig(f'data_final_errors_N={N}_maxiter={maxiter}_sigma={noise_level}_numberOfd={number_of_d}.png')\n",
    "    plt.show()\n",
    "\n",
    "    ## SAVE DATA\n",
    "    np.savez(f'data_final_errors_N={N}_maxiter={maxiter}_sigma={noise_level}_numberOfd={number_of_d}.npz', \n",
    "             d_vals=d_vals, final_error_noisy=final_error_noisy_es, final_error=final_error_es)"
   ]
  },
  {
   "cell_type": "markdown",
   "metadata": {},
   "source": [
    "We now load data ..."
   ]
  },
  {
   "cell_type": "code",
   "execution_count": null,
   "metadata": {},
   "outputs": [],
   "source": [
    "# for N in N_vals:\n",
    "#     # Load data\n",
    "#     data  = np.load(f'data_final_errors_N={N}_maxiter={maxiter}_sigma={noise_level}_numberOfd={number_of_d}.npz')\n",
    "    \n",
    "#     # Make plots\n",
    "    \n",
    "#     ##### IMPROVE WITH PLOT FUNCTION +++\n",
    "    \n",
    "#     plt.plot(data['d_vals'], data['final_error_noisy']/N, label = f\"N={N} noisy\")\n",
    "#     plt.plot(data['d_vals'], data['final_error']/N,       label = f\"N={N} no noise\")\n",
    "#     plt.ylabel(\"error / N\")\n",
    "#     plt.xlabel(\"d\")\n",
    "#     plt.legend()\n",
    "\n",
    "#     plt.show()\n",
    "\n",
    "noise_levels = [0, 0.05, 0.1, 0.2]\n",
    "colors       = [\"g\", 'y', 'b', 'r'] \n",
    "N = 500\n",
    "maxiter = 400\n",
    "number_of_d = 20\n",
    "d_start = 4\n",
    "\n",
    "# for i in tqdm(range(len(noise_levels))):\n",
    "#     noise_level = noise_levels[i]\n",
    "    \n",
    "#     # choose d values\n",
    "#     d_vals = np.linspace(d_start, np.floor(1728*N/(1728+N)), number_of_d, dtype = 'int')\n",
    "    \n",
    "#     # Load, reshape and add noise to images\n",
    "#     faces_es                = load_images(N)\n",
    "#     faces_reshaped_es       = split_and_reshape(faces_es)[0]\n",
    "#     faces_reshaped_noisy_es = add_noise(faces_reshaped_es, noise_level)\n",
    "#     noise_err = np.linalg.norm(faces_reshaped_es - faces_reshaped_noisy_es, 'fro')\n",
    "    \n",
    "#     # Initialise arrays for final errors\n",
    "#     final_err = np.zeros(len(d_vals))\n",
    "    \n",
    "#     for j in tqdm(range(len(d_vals))):\n",
    "#         # NMF with noise removal\n",
    "#         W, H, err    = NMF(faces_reshaped_noisy_es, d_vals[j], maxiter = maxiter)\n",
    "#         final_err[j] = np.linalg.norm(faces_reshaped_es - np.dot(W, H), 'fro')\n",
    "\n",
    "#     plt.plot(d_vals, final_err, label = r\"$\\sigma$ = \"+f\"{noise_level}\", color = colors[i])\n",
    "#     plt.axhline(y = noise_err, color = colors[i], linestyle = \"--\")\n",
    "#     plt.legend()\n",
    "#     plt.show()\n",
    "\n",
    "#     ## SAVE DATA\n",
    "#     np.savez(f'data_diffNoiseSim_N={N}_maxiter={maxiter}_sigma={noise_level}_numberOfd={number_of_d}.npz', \n",
    "#              d_vals=d_vals, final_err=final_err, noise_err = noise_err)\n",
    "\n",
    "    \n",
    "for i in range(len(noise_levels)):\n",
    "    noise_level = noise_levels[i]\n",
    "    data  = np.load(f'data_diffNoiseSim_N={N}_maxiter={maxiter}_sigma={noise_level}_numberOfd={number_of_d}.npz')\n",
    "\n",
    "    plt.plot(data['d_vals'], data['final_err'], label = r\"$\\sigma$ = \"+f\"{noise_level}\", color = colors[i])\n",
    "    plt.axhline(y = data['noise_err'], color = colors[i], linestyle = linestyles[1])\n",
    "\n",
    "    \n",
    "plt.xlabel(\"d\")\n",
    "plt.ylabel(\"error\")\n",
    "plt.legend()\n",
    "plt.show()\n"
   ]
  },
  {
   "cell_type": "markdown",
   "metadata": {},
   "source": [
    "Discuss"
   ]
  },
  {
   "cell_type": "markdown",
   "metadata": {},
   "source": [
    "## Conclusion <a class=\"anchor\" id=\"conclusion\"></a>"
   ]
  },
  {
   "cell_type": "markdown",
   "metadata": {},
   "source": [
    "3d) \n",
    "\n",
    "***d) Include a suitable conclusion to the entire project. What did you find? What\n",
    "are the advantages and disadvantages of applying NMF for images, in particular\n",
    "for denoising?***\n",
    "\n",
    "Random\n",
    "\n",
    "piss\n",
    "\n",
    "på \n",
    "\n",
    "konk"
   ]
  }
 ],
 "metadata": {
  "interpreter": {
   "hash": "aee8b7b246df8f9039afb4144a1f6fd8d2ca17a180786b69acc140d282b71a49"
  },
  "kernelspec": {
   "display_name": "Python 3 (ipykernel)",
   "language": "python",
   "name": "python3"
  },
  "language_info": {
   "codemirror_mode": {
    "name": "ipython",
    "version": 3
   },
   "file_extension": ".py",
   "mimetype": "text/x-python",
   "name": "python",
   "nbconvert_exporter": "python",
   "pygments_lexer": "ipython3",
   "version": "3.9.7"
  }
 },
 "nbformat": 4,
 "nbformat_minor": 2
}
