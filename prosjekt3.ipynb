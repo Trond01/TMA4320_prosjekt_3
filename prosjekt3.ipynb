{
 "cells": [
  {
   "cell_type": "markdown",
   "metadata": {},
   "source": [
    "# TITLE   TITLE   TITLE"
   ]
  },
  {
   "cell_type": "markdown",
   "metadata": {},
   "source": [
    "## Contents\n",
    "* [Introduction](#intro)\n",
    "* [Theory behind methods](#method)\n",
    "* [Analysing the CryptoPunks dataset](#dataset)\n",
    "* [Denoising](#denoising)\n",
    "* [Conclusion](#conclusion)"
   ]
  },
  {
   "cell_type": "markdown",
   "metadata": {},
   "source": [
    "## Introduction <a class=\"anchor\" id=\"intro\"></a>"
   ]
  },
  {
   "cell_type": "markdown",
   "metadata": {},
   "source": [
    "INSERT intro her"
   ]
  },
  {
   "cell_type": "markdown",
   "metadata": {},
   "source": [
    "We will use ... these libraries ... "
   ]
  },
  {
   "cell_type": "code",
   "execution_count": null,
   "metadata": {},
   "outputs": [],
   "source": [
    "## Libraries for math and plotting\n",
    "import numpy as np\n",
    "import matplotlib.pyplot as plt\n",
    "\n",
    "## Image handling, files, timing and status bar\n",
    "#%pip install opencv-python \n",
    "# Required to import cv2 !!!\n",
    "import cv2\n",
    "import os\n",
    "import time\n",
    "import random\n",
    "from tqdm.notebook import tqdm"
   ]
  },
  {
   "cell_type": "markdown",
   "metadata": {},
   "source": [
    "## (TASK 1) Theory behind methods <a class=\"anchor\" id=\"method\"></a>"
   ]
  },
  {
   "cell_type": "markdown",
   "metadata": {},
   "source": [
    "**SUGGESTION: we present the method/algorithm here and do the tasks a-c before implementation.**\n",
    "\n",
    "present\\\n",
    "\\\n",
    "\\\n",
    "\\\n",
    "\\\n",
    "\n",
    "present"
   ]
  },
  {
   "cell_type": "markdown",
   "metadata": {},
   "source": [
    "a) vise blabla\n",
    "\\\n",
    "\\\n",
    "\\\n",
    "\\\n",
    "\n",
    "We will show that if $A$ is non negative and $W$ and $H$ are initialized as positive, then all iterates $W_k$ and $H_k$ are also positive. This will by done by induction:  **Hvis a er 0 blir vel W_k og H_k også 0?, så vil må vel endre formulerinen litt?**\n",
    "\n",
    "Asssume $A$ is non negative and $W$ and $H$ are initialized as positive, and let $P(n)$ be the statement $W_k$ and $H_k$ are positive.\n",
    "\n",
    "The hypothesis clearly holds for the base case $P(0)$, as $W_0=W$ and $H_0=H$ being positive is part of our assumptions. \n",
    "\n",
    "Now we assume the induction hypothesis holds for $n=k$. We have that:\n",
    "\n",
    "$H_{k+1} ← H_k ⊙ (W^T_k A) ⊘ (W^T_k W_kH_k)$\n",
    "\n",
    "$W_{k+1} ← W_k ⊙ (AH^T_{k+1}) ⊘ (W_kH_{k+1}H^T_{k+1})$\n",
    "\n",
    "It is clear that $H_{k+1}$ is positive, as it is a product of $H_k$, $W_k$, $W^T_k$ and $A$, which are all positive under our assumptions and induction hypothesis. \n",
    "\n",
    "It follows that $W_{k+1}$ is positive, as it is also a product of only positive matrices. \n",
    "\n",
    "Hence the induction hypothesis holds for $n=k+1$. By induction it follows that $P(n)$ holds for all $n$ in $\\mathbb{Z}^+$.\n"
   ]
  },
  {
   "cell_type": "markdown",
   "metadata": {},
   "source": [
    "b) vise blabla\n",
    "\\\n",
    "\\\n",
    "\\\n",
    "\\\n",
    "If $(W^T_k A) ⊘ (W^T_k W_kH_k)$ is a matrix of ones we see that when calculating $H_{k+1}$ we multiply every element of $H_k$ by $1$, meaning $H_{k+1}=H_k$, this is known as a fixed point. \n",
    "\n",
    "This is the case if $W_kH_k=A$, indeed if $W_kH_k=A$ then $(W^T_k A) ⊘ (W^T_k W_kH_k)=(W^T_k A) ⊘ (W^T_k A)$, which is clearly a matrix of ones. **Trenger vi forklare hvorfor det blir 1?**"
   ]
  },
  {
   "cell_type": "markdown",
   "metadata": {},
   "source": [
    "c) vise blabla\n",
    "\\\n",
    "\\\n",
    "\\\n",
    "\\\\\n",
    "\n",
    "If either $W_0$ or $H_0$ are set to matrices containing only zeros, we can see from **ref Hk+1 Wk+1** that $H_k$ and $W_k$ converges to $0$ regardless of $A$. In other words $WH$ will never converge towards $A$, unless by chance $A$ is also a matrix of zeros.  \n",
    " "
   ]
  },
  {
   "cell_type": "markdown",
   "metadata": {},
   "source": [
    "We will now implement the NMF algorithm. To test that our algorithm works we define the following matrices:\n",
    "\n",
    "$$ \n",
    "A_1 = \\begin{bmatrix} 1 & 0 \\\\ 0 & 1 \\end{bmatrix},\\,\\,\\,\\,\\,\n",
    "A_2 = \\begin{bmatrix} 1 & 2 \\\\ 1 & 1 \\\\ 1 & 2 \\end{bmatrix},\\,\\,\\,\\,\\,\n",
    "A_3 = \\begin{bmatrix} 2 & 1 & 1 \\\\ 2 & 1 & 1 \\\\ 1 & 1 & 2 \\end{bmatrix},\\,\\,\\,\\,\\,\n",
    "A_4 = \\begin{bmatrix} 2 & 1 & 0 \\\\ 1 & 2 & 3 \\\\ 0 & 3 & 3 \\end{bmatrix}.\n",
    "$$"
   ]
  },
  {
   "cell_type": "code",
   "execution_count": null,
   "metadata": {},
   "outputs": [],
   "source": [
    "A1 = np.array([[1, 0],\n",
    "               [0, 1]], dtype = \"float\")\n",
    "\n",
    "A2 = np.array([[1, 2],\n",
    "               [1, 1],\n",
    "               [1, 2]], dtype = \"float\")\n",
    "\n",
    "A3 = np.array([[2, 1, 1],\n",
    "               [2, 1, 1],\n",
    "               [1, 1, 2]], dtype = \"float\")\n",
    "\n",
    "A4 = np.array([[2, 1, 0],\n",
    "               [1, 2, 3],\n",
    "               [0, 3, 3]], dtype = \"float\")"
   ]
  },
  {
   "cell_type": "code",
   "execution_count": null,
   "metadata": {},
   "outputs": [],
   "source": [
    "#d\n",
    "#e\n",
    "#f extend to store frobenius norm\n",
    "\n",
    "def NMF(V, d, delta = 1e-9, maxiter = 1000, seed = 4269):\n",
    "    \"\"\"\n",
    "    Performs maxiter iterations of the NMF algorithm described above to find \n",
    "    matrices W and H such that V ≈ WH. \n",
    "    input:\n",
    "        V: (m,n) input array\n",
    "        d: integer, Number of components we want to decompose V into\n",
    "        delta, float, small number for safe division\n",
    "        maxiter: integer, maximum number of iterations\n",
    "        seed: integer, random seed\n",
    "    output:\n",
    "        W: (m,d) array\n",
    "        H: (d,n) array\n",
    "        err: array of lenght maxiter+1 with Frodenius norms ||V-W_k@H_k||\n",
    "    \"\"\"\n",
    "\n",
    "    if seed != 0:\n",
    "        np.random.seed(seed)\n",
    "        \n",
    "    # Find dimensions of V\n",
    "    m = np.shape(V)[0]\n",
    "    n = np.shape(V)[1]\n",
    "    \n",
    "    # Initialize W and H with numbers from Unif(0, 1), and rescale by factor sqrt(mean(A)/d)\n",
    "    random_numbers_01 = np.random.uniform(0.0, 1.0, m*d+d*n) # we need m*d+d*n numbers\n",
    "    W = np.sqrt(np.mean(V)/d) * random_numbers_01[0:m*d].reshape((m, d))\n",
    "    H = np.sqrt(np.mean(V)/d) * random_numbers_01[m*d:m*d+d*n].reshape((d, n))\n",
    "\n",
    "    # Initialize the array err for storing the Frobenius norm ||V-WH||\n",
    "    err    = np.zeros(maxiter+1)\n",
    "    err[0] = np.linalg.norm(V - np.dot(W, H), 'fro')\n",
    "    \n",
    "    # Perform the iterations\n",
    "    for k in tqdm(range(maxiter), leave = False):\n",
    "        H = H * np.dot(W.T, V) / (np.dot(W.T, np.dot(W, H)) + delta)\n",
    "        W = W * np.dot(V, H.T) / (np.dot(W, np.dot(H, H.T)) + delta)\n",
    "        err[k+1] = np.linalg.norm(V - np.dot(W, H))\n",
    "    \n",
    "    return W, H, err\n",
    "\n",
    "W1, H1, err1 = NMF(A1, 1, seed = 42)\n",
    "print(f\"With A = A\\u2081 =\\n{A1}, \\nwe find W = \\n{W1}, \\nH = \\n{H1}, \\nWH = \\n{np.dot(W1, H1)}.\")\n",
    "print(f\"This gives the Frobenius norm ||A\\u2081-WH|| = {err1[-1]}\")\n",
    "\n",
    "## SKAL VI GJØRE TO FOR HVER???????\n",
    "# W1s, H1s, err1s = NMF(A1, 1, seed = 69)\n",
    "# print(f\"With A = A\\u2081 =\\n{A1}, \\nwe find W = \\n{W1s}, \\nH = \\n{H1s}, \\nWH = \\n{np.dot(W1s, H1s)}s.\")\n",
    "# print(f\"This gives the Frobenius norm ||A\\u2081-WH|| = {err1s[-1]}\")\n",
    "\n",
    "print(100*\"_\", \"\\n\")\n",
    "\n",
    "W2, H2, err2 = NMF(A2, 1, seed = 42)\n",
    "print(f\"With A = A\\u2082 =\\n{A2}, \\nwe find W = \\n{W2}, \\nH = \\n{H2}, \\nWH = \\n{np.dot(W2, H2)}.\")\n",
    "print(f\"This gives the Frobenius norm ||A\\u2081-WH|| = {err2[-1]}\")\n",
    "\n",
    "# NMF(A2, 1, seed = 69)\n",
    "\n",
    "    "
   ]
  },
  {
   "cell_type": "code",
   "execution_count": null,
   "metadata": {},
   "outputs": [],
   "source": [
    "#e\n",
    "\n",
    "d = 2\n",
    "\n",
    "W1, H1, err1 = NMF(A1, d, seed = 42)\n",
    "print(f\"With A = A\\u2081 =\\n{A1}, \\nwe find W = \\n{W1}, \\nH = \\n{H1}, \\nWH = \\n{np.dot(W1, H1)}.\")\n",
    "print(f\"This gives the Frobenius norm ||A\\u2081-WH|| = {err1[-1]}\")\n",
    "\n",
    "print(100*\"_\", \"\\n\")\n",
    "\n",
    "W2, H2, err2 = NMF(A2, d, seed = 42)\n",
    "print(f\"With A = A\\u2082 =\\n{A2}, \\nwe find W = \\n{W2}, \\nH = \\n{H2}, \\nWH = \\n{np.dot(W2, H2)}.\")\n",
    "print(f\"This gives the Frobenius norm ||A\\u2081-WH|| = {err2[-1]}\")\n"
   ]
  },
  {
   "cell_type": "markdown",
   "metadata": {},
   "source": [
    "e"
   ]
  },
  {
   "cell_type": "code",
   "execution_count": null,
   "metadata": {},
   "outputs": [],
   "source": [
    "#f FIND ranks\n",
    "\n",
    "print(f\"\\u03C3(A\\u2083) = \\u007b{np.linalg.eig(A3)[0][0]}, {np.linalg.eig(A3)[0][1]}, {np.linalg.eig(A3)[0][2]}\\u007d\")\n",
    "print(f\"\\u03C3(A\\u2084) = \\u007b{np.linalg.eig(A4)[0][0]}, {np.linalg.eig(A4)[0][1]}, {np.linalg.eig(A4)[0][2]}\\u007d\")"
   ]
  },
  {
   "cell_type": "markdown",
   "metadata": {},
   "source": [
    "From the space of eigenvalues, $\\sigma(A_3)$, we see that 0 is an eigenvalue of the matrix $A_3$. It only has two non-zero eigenvalues, and is therefore a rank $2$ matrix. $\\sigma(A_4)$ shows that $A_4$ has three non-zero eigenvalues, so it is a rank 3 matrix.  "
   ]
  },
  {
   "cell_type": "code",
   "execution_count": null,
   "metadata": {},
   "outputs": [],
   "source": [
    "#g\n",
    "\n",
    "\"\"\"\n",
    "g) For A3 and A4, run the NMF algorithm for d = 1, d = 2 and d = 3 and\n",
    "plot ∥A − WkHk∥F as a function of number of iterations in two separate plots\n",
    "(one for A3 and one for A4). Scale the y-axis logarithmically, using for example\n",
    "plt.semilogy. Is equation (17) satisfied? How do the results depend on d?\n",
    "\"\"\"\n",
    "\n",
    "d_vals = [1, 2, 3]\n",
    "A3_error_arrays = []\n",
    "A4_error_arrays = []\n",
    "for d in d_vals:\n",
    "    A3_error_arrays.append(NMF(A3, d)[2])\n",
    "    A4_error_arrays.append(NMF(A4, d)[2])\n",
    "\n",
    "\n",
    "    \n",
    "### DETTE skal gjøres om til en generell plotfunksjon\n",
    "fig, axs = plt.subplots(1, 2, figsize = (15, 4))\n",
    "for i in range(len(d_vals)):\n",
    "    axs[0].plot(np.log10(A3_error_arrays[i]), label = r\"$d$ = \" + f\"{d_vals[i]}\")\n",
    "    axs[1].plot(np.log10(A4_error_arrays[i]), label = r\"$d$ = \" + f\"{d_vals[i]}\")\n",
    "\n",
    "axs[0].set_title(r\"Using matrix $A_3$\")\n",
    "axs[1].set_title(r\"Using matrix $A_4$\")\n",
    "\n",
    "axs[0].legend(loc = \"upper right\")\n",
    "axs[1].legend(loc = \"upper right\")\n",
    "\n",
    "axs[0].set_xlabel(r\"Iterations, $k$\")\n",
    "axs[0].set_ylabel(r\"log $||A-WH||_F$\")\n",
    "axs[1].set_xlabel(r\"Iterations, $k$\")\n",
    "axs[1].set_ylabel(r\"log $||A-WH||_F$\")\n",
    "\n",
    "\n",
    "figure_count = 1\n",
    "txt = f\"$Figure$ ${figure_count}$: \" + r\"log of Frobenius norm $||A-WH||_F$ for different d.\"\n",
    "plt.figtext(0.5, -0.1, txt, wrap=True, horizontalalignment='center', fontsize = 16)\n",
    "plt.show()\n"
   ]
  },
  {
   "cell_type": "markdown",
   "metadata": {},
   "source": []
  },
  {
   "cell_type": "markdown",
   "metadata": {},
   "source": []
  },
  {
   "cell_type": "markdown",
   "metadata": {},
   "source": [
    "## (TASK 2) Analysing the CryptoPunks dataset <a class=\"anchor\" id=\"dataset\"></a>"
   ]
  },
  {
   "cell_type": "markdown",
   "metadata": {},
   "source": [
    "We will now turn our attention to image ... ..."
   ]
  },
  {
   "cell_type": "markdown",
   "metadata": {},
   "source": [
    "The dataset for this project consists of 10 000 images. Of these we will sample $N=XXXX$ random images to ensure we get unique results. We use a predeterminded seed to ensure the results won't change if the notebook is restarted. The load_images function was handed out, but has been modified slightly to pick images before loading them into the notebook. "
   ]
  },
  {
   "cell_type": "code",
   "execution_count": null,
   "metadata": {},
   "outputs": [],
   "source": [
    "def load_images(N, seed = 4269):\n",
    "    \"\"\"\n",
    "    Loads N random images from cryptopunk dataset. Use the same seed to get the same\n",
    "    selection each time. \n",
    "    Input:\n",
    "        integer: N, number of images to load\n",
    "        integer: seed for random sampling\n",
    "    Output:\n",
    "        array: faces, (24,24,4,N) numpy array containing images\n",
    "    \"\"\"\n",
    "    # Allocate array to store images\n",
    "    faces = np.zeros((24,24,4,N))\n",
    "\n",
    "    # Chose N random image numbers\n",
    "    M = 10000 # number of images to choose from\n",
    "    np.random.seed(seed)\n",
    "    image_number_choice = np.random.choice(np.arange(0, M),N, replace = False)\n",
    "        \n",
    "    # Iterate over folders\n",
    "    for i in range(len(image_number_choice)):\n",
    "        im_path = f\"./imgs/imgs/imgs/{image_number_choice[i]}.png\"\n",
    "        im = cv2.imread(im_path, cv2.IMREAD_UNCHANGED)\n",
    "        faces[:,:,:,i] = cv2.cvtColor(im, cv2.COLOR_BGRA2RGBA)/255.0\n",
    "\n",
    "    return faces\n",
    "\n",
    "# Number of faces to keep in final array\n",
    "N = 500\n",
    "\n",
    "# Load N faces\n",
    "faces = load_images(N)\n",
    "\n",
    "# Check that the shape is correct\n",
    "print(\"The face array has shape: \", faces.shape)"
   ]
  },
  {
   "cell_type": "markdown",
   "metadata": {},
   "source": [
    "Below is handed-out code for plotting the images we have loaded. "
   ]
  },
  {
   "cell_type": "code",
   "execution_count": null,
   "metadata": {},
   "outputs": [],
   "source": [
    "def plotimgs(imgs, nplot = 8, rescale = False, filename = None, figsize = (16, 16)):\n",
    "    \"\"\"\n",
    "    Plots nplot*nplot images on an nplot x nplot grid. \n",
    "    Saves to given filename if filename is given\n",
    "    Can also rescale the RGB channels\n",
    "    input:\n",
    "        imgs: (24,24,4,N) or (24,24,3,N) array containing images, where N > nplot**2\n",
    "        nplot: integer, nplot**2 images will be plotted\n",
    "        rescale: bool\n",
    "        filename: string, figure will be saved to this location. Should end with \".png\".\n",
    "    \"\"\"\n",
    "    # We will change some of the parameters of matplotlib, so we store the initial ones\n",
    "    oldparams = plt.rcParams['figure.figsize']\n",
    "\n",
    "    # New params to make better plot. There definitely exists better ways of doing this\n",
    "    plt.rcParams['figure.figsize'] = figsize\n",
    "\n",
    "    # Initialize subplots\n",
    "    fig, axes = plt.subplots(nplot,nplot)\n",
    "\n",
    "    # Set background color\n",
    "    plt.gcf().set_facecolor(\"lightgrey\")\n",
    "\n",
    "    # Iterate over images\n",
    "    for idx in range(nplot**2):\n",
    "        \n",
    "        # Indices\n",
    "        i = idx//nplot; j = idx%nplot\n",
    "\n",
    "        # Remove axis\n",
    "        if nplot > 1:\n",
    "            axes[i,j].axis('off')\n",
    "        else:\n",
    "            axes.axis('off')\n",
    "\n",
    "        # Rescale RGB channels by dividing my maximal value\n",
    "        if rescale:\n",
    "            scaled_img = np.copy(imgs[:,:,:,idx])\n",
    "            scaled_img[:,:,:3] = scaled_img[:,:,:3]/np.max(scaled_img[:,:,:3])\n",
    "            if nplot > 1:\n",
    "                axes[i,j].imshow(scaled_img)\n",
    "            else:\n",
    "                axes.imshow(scaled_img)\n",
    "        else:\n",
    "            if nplot > 1:\n",
    "                axes[i,j].imshow(imgs[:,:,:,idx])\n",
    "            else:\n",
    "                axes.imshow(imgs[:,:,:])\n",
    "    \n",
    "    # Tight layout so images will appear closer together\n",
    "    plt.tight_layout()\n",
    "\n",
    "    # Save if filename is given\n",
    "    if filename is not None:\n",
    "        plt.savefig(filename)\n",
    "\n",
    "    plt.show()\n",
    "\n",
    "    # Return to old parameters\n",
    "    plt.rcParams['figure.figsize'] = oldparams"
   ]
  },
  {
   "cell_type": "markdown",
   "metadata": {},
   "source": [
    "**First look at the dataset**"
   ]
  },
  {
   "cell_type": "markdown",
   "metadata": {},
   "source": [
    "2a) We now have all we need to investigate ..."
   ]
  },
  {
   "cell_type": "code",
   "execution_count": null,
   "metadata": {},
   "outputs": [],
   "source": [
    "#2a)\n",
    "\n",
    "# Example of plotting 8 times 8 images stored in \"faces\" and saving the output to a file named \"punks.png\"\n",
    "plotimgs(faces, 8, filename=\"punks.png\")"
   ]
  },
  {
   "cell_type": "markdown",
   "metadata": {},
   "source": [
    "COMMENTs on 2a)"
   ]
  },
  {
   "cell_type": "markdown",
   "metadata": {},
   "source": [
    "***Under er noe dere egentlig kan gjøre dere vil, men her viser vi hvordan dere kan splitte fargekanalene fra opasitetskanalen, samt reshape slik at dere har en array som dere kan anvende NMF på.***"
   ]
  },
  {
   "cell_type": "code",
   "execution_count": null,
   "metadata": {},
   "outputs": [],
   "source": [
    "# Split the images into opacity and rgb channels\n",
    "faces_opacity = faces[:,:,3,:]\n",
    "faces_rgb = faces[:,:,:3,:]\n",
    "shape = faces_rgb.shape\n",
    "\n",
    "\n",
    "# Clever reshape \"trick\". This is the matrix we will apply the NMF to\n",
    "faces_reshaped = faces_rgb.reshape(np.prod(shape)//N, N)\n",
    "\n",
    "\n",
    "def split_and_reshape(faces):\n",
    "    #input: 24x24x4xN array of stored images\n",
    "    #output: 1728xN array of with rgb values for the images without opacity, 24x24x500 array of opacity for images \n",
    "    faces_opacity = faces[:,:,3,:]\n",
    "    faces_rgb = faces[:,:,:3,:]\n",
    "    shape = faces_rgb.shape\n",
    "    \n",
    "    # Clever reshape \"trick\". This is the matrix we will apply the NMF to\n",
    "    faces_reshaped = faces_rgb.reshape(np.prod(shape)//N, N)\n",
    "    return faces_reshaped, faces_opacity\n",
    "\n",
    "def merge_and_reshape(reshaped, opacity = np.array([])):\n",
    "    #input: 1728xN array of with rgb values for the images without opacity, 24x24xN array of opacity for images \n",
    "    #output: 24x24x4xN array of images\n",
    "    N = int(reshaped.size/1728)\n",
    "    faces = np.reshape(reshaped, (24,24,3,N))\n",
    "    if opacity.size > 0:\n",
    "        opacity = np.reshape(faces_opacity, (24,24,1,N))\n",
    "        faces = np.concatenate((faces, opacity), axis=2)\n",
    "    \n",
    "    faces = np.where(faces<=1, faces, 1)\n",
    "#     faces = np.where(faces>=0, faces, 0) # We won't need this (:\n",
    "    \n",
    "    return faces\n",
    "\n",
    "faces_reshaped, opacity = split_and_reshape(faces)\n",
    "jalla = merge_and_reshape(faces_reshaped, opacity)\n",
    "plotimgs(jalla, 8, filename=\"punks.png\")\n"
   ]
  },
  {
   "cell_type": "markdown",
   "metadata": {},
   "source": [
    "We\n",
    "\\\n",
    "\\\n",
    "\\\n",
    "\\\n",
    "\\\n",
    "\\\n",
    "\\\n",
    "\\\n",
    "\n",
    "\n",
    "\n",
    "\n"
   ]
  },
  {
   "cell_type": "markdown",
   "metadata": {},
   "source": [
    "**The *average* face**"
   ]
  },
  {
   "cell_type": "markdown",
   "metadata": {},
   "source": [
    "2b) We first ... calculate mean ... usefull?"
   ]
  },
  {
   "cell_type": "code",
   "execution_count": null,
   "metadata": {},
   "outputs": [],
   "source": [
    "#2b) The mean face\n",
    "\n",
    "print(faces.shape)\n",
    "mean_face = np.mean(faces, axis = -1)\n",
    "print(mean_face.shape)\n",
    "plotimgs(mean_face, 1, filename=\"punks.png\", figsize = (3, 3))\n"
   ]
  },
  {
   "cell_type": "markdown",
   "metadata": {},
   "source": [
    "2b) \n",
    "\n",
    "Useful info?\n",
    "\n",
    "Pixels with no opacity for all?\n",
    "\n",
    "Rank of image matrix???"
   ]
  },
  {
   "cell_type": "markdown",
   "metadata": {},
   "source": [
    "**NMF with $d=64$**"
   ]
  },
  {
   "cell_type": "markdown",
   "metadata": {},
   "source": [
    "2c)\n",
    "\n",
    "***c) Calculate the NMF of the 3 color channels as explained above using d = 64. Plot\n",
    "the columns of W interpreted as RGB images (each columns should be a 24×24×3\n",
    "vector so you can use the handed out plotting function after reshaping). Explain\n",
    "and discuss what you see. Does the NMF capture the important features of the\n",
    "dataset? You can also try with different values for d to see how this affects the\n",
    "results.***"
   ]
  },
  {
   "cell_type": "code",
   "execution_count": null,
   "metadata": {},
   "outputs": [],
   "source": [
    "#2c)\n",
    "\n",
    "d = 64\n",
    "faces_reshaped, opacity = split_and_reshape(faces)\n",
    "W_2c, H_2c, err_2c = NMF(faces_reshaped, d, maxiter = 100) # øke maxiter!!"
   ]
  },
  {
   "cell_type": "code",
   "execution_count": null,
   "metadata": {},
   "outputs": [],
   "source": [
    "d = 64\n",
    "\n",
    "W_columns = merge_and_reshape(W_2c) #np.reshape(W_2c, (24, 24, 3, d))\n",
    "plotimgs(W_columns, 8, filename=\"punks.png\", figsize = (12, 12))"
   ]
  },
  {
   "cell_type": "markdown",
   "metadata": {},
   "source": [
    "2c) important features"
   ]
  },
  {
   "cell_type": "code",
   "execution_count": null,
   "metadata": {},
   "outputs": [],
   "source": [
    "#2c) try with smaller and higher d\n",
    "\n",
    "d = 16\n",
    "W_16, H_16, err_16 = NMF(faces_reshaped, d, maxiter = 100) # øke maxiter!!\n",
    "W_columns_16 = merge_and_reshape(W_16) \n",
    "plotimgs(W_columns_16, 4, filename=f\"punks_basis_d={d}.png\", figsize = (4, 4))\n",
    "\n",
    "images_reborn_16 = merge_and_reshape(np.dot(W_16, H_16), opacity)\n",
    "plotimgs(images_reborn_16, 4, filename=f\"punks_d={d}.png\", figsize = (4, 4))\n",
    "\n",
    "d = 144\n",
    "W_144, H_144, err_144 = NMF(faces_reshaped, d, maxiter = 100) # øke maxiter!!\n",
    "W_columns_144 = merge_and_reshape(W_144) \n",
    "plotimgs(W_columns_144, 12, filename=f\"punks_basis_d={d}.png\", figsize = (12, 12))\n",
    "\n",
    "images_reborn_144 = merge_and_reshape(np.dot(W_144, H_144), opacity)\n",
    "plotimgs(images_reborn_144, 8, filename=f\"punks_d={d}.png\", figsize = (12, 12))\n",
    "\n"
   ]
  },
  {
   "cell_type": "markdown",
   "metadata": {},
   "source": [
    "2c) What happens with other d"
   ]
  },
  {
   "cell_type": "markdown",
   "metadata": {},
   "source": [
    "**Reconstructing the dataset**"
   ]
  },
  {
   "cell_type": "markdown",
   "metadata": {},
   "source": [
    "2d) \n",
    "\n",
    "***d) With d = 64, calculate the 64 reconstructions W H corresponding to the images\n",
    "you plotted in 2a) and plot the reconstructions (again, you can use the handed out\n",
    "plotting function after reshaping). Are the reconstructions overall good? How do\n",
    "the reconstructions deviate from the original images (if they deviate at all)? In\n",
    "particular, are all features of the images equally well reconstructed?***"
   ]
  },
  {
   "cell_type": "code",
   "execution_count": null,
   "metadata": {},
   "outputs": [],
   "source": [
    "#2d) reconstruct\n",
    "\n",
    "\n",
    "images_reborn = merge_and_reshape(np.dot(W_2c, H_2c), opacity)\n",
    "plotimgs(images_reborn, 8, filename=\"punks.png\", figsize = (12, 12))\n",
    "\n"
   ]
  },
  {
   "cell_type": "markdown",
   "metadata": {},
   "source": [
    "2d)\n",
    "\n",
    "Discuss deviation"
   ]
  },
  {
   "cell_type": "markdown",
   "metadata": {},
   "source": [
    "**Convergence**"
   ]
  },
  {
   "cell_type": "markdown",
   "metadata": {},
   "source": [
    "2e) \n",
    "\n",
    "***e) For each iteration k, calculate ∥A−WkHk∥F and plot it as a function of iterations\n",
    "similarily to what you did in Task 1, but now for d = 16, 32, 64. Are the results\n",
    "reasonable? Does it look like the algorithm has converged?***"
   ]
  },
  {
   "cell_type": "code",
   "execution_count": null,
   "metadata": {},
   "outputs": [],
   "source": [
    "#2e) \n",
    "\n",
    "d_vals = [16, 32, 64]\n",
    "maxiter = 1000\n",
    "image_error_arrays = []\n",
    "for d in tqdm(d_vals, leave = False):\n",
    "    image_error_arrays.append(NMF(faces_reshaped, d, maxiter = maxiter)[2]) # øke maxiter\n",
    "    \n",
    "### DETTE skal gjøres om til en generell plotfunksjon\n",
    "fig, ax = plt.subplots(figsize = (15, 4))\n",
    "for i in range(len(d_vals)):\n",
    "    ax.plot(np.log10(image_error_arrays[i]), label = r\"$d$ = \" + f\"{d_vals[i]}\")\n",
    "\n",
    "ax.legend(loc = \"upper right\")\n",
    "ax.set_xlabel(r\"Iterations, $k$\")\n",
    "ax.set_ylabel(r\"log $||A-WH||_F$\")\n",
    "\n",
    "figure_count = 2\n",
    "txt = f\"$Figure$ ${figure_count}$: \" + r\"log of Frobenius norm $||A-WH||_F$ for different d for ........\"\n",
    "plt.figtext(0.5, -0.1, txt, wrap=True, horizontalalignment='center', fontsize = 16)\n",
    "plt.show()\n",
    "\n"
   ]
  },
  {
   "cell_type": "markdown",
   "metadata": {},
   "source": [
    "2e) discuss"
   ]
  },
  {
   "cell_type": "markdown",
   "metadata": {},
   "source": [
    "**Reconstructing at different $d$**"
   ]
  },
  {
   "cell_type": "markdown",
   "metadata": {},
   "source": [
    "2f) \n",
    "\n",
    "***f) For a wide range of d, for example d = 16, 64, 128, 256, do an NMF and calculate\n",
    "∥A−W H∥F\n",
    "9\n",
    ". Make sure you are using a high number of maximum iterations (at\n",
    "least 1000 iterations), and if your computing resources and time allows it, try to\n",
    "use more values for d. Plot this quantity as a function of d. Discuss the resulting\n",
    "plot. Specifically, how would you expect ∥A − W H∥F to depend on d?***"
   ]
  },
  {
   "cell_type": "code",
   "execution_count": null,
   "metadata": {},
   "outputs": [],
   "source": [
    "#2f)\n",
    "\n",
    "d_vals = [i**2 for i in range(2, 22)]\n",
    "maxiter = 50\n",
    "final_error = np.zeros(len(d_vals))\n",
    "for i in tqdm(range(len(d_vals)), leave = False):\n",
    "    final_error[i] = NMF(faces_reshaped, d_vals[i], maxiter = maxiter)[2][-1]\n",
    "    \n",
    "plt.plot(d_vals, final_error)\n",
    "\n"
   ]
  },
  {
   "cell_type": "markdown",
   "metadata": {},
   "source": [
    "2f) discuss"
   ]
  },
  {
   "cell_type": "markdown",
   "metadata": {},
   "source": [
    "## (Task 3) Denoising <a class=\"anchor\" id=\"denoising\"></a>"
   ]
  },
  {
   "cell_type": "markdown",
   "metadata": {},
   "source": [
    "We will now add noise ..."
   ]
  },
  {
   "cell_type": "markdown",
   "metadata": {},
   "source": [
    "We model the noise as:\n",
    "\n",
    "$$A_{\\textrm{noisy}} = A + \\sigma E,$$\n",
    "\n",
    "where $\\sigma > 0 $ is our *noise level*, and $E$ sampled from $\\mathcal{N}(0, 1)$.  \n",
    "\n",
    "Below is the function ..."
   ]
  },
  {
   "cell_type": "code",
   "execution_count": null,
   "metadata": {},
   "outputs": [],
   "source": [
    "def add_noise(imgs_reshaped, sigma = 0.1):\n",
    "    \"\"\"\n",
    "    Adds gaussian noise to images as described in text.\n",
    "    Note that imgs must be given as a (24*24*3, N) numpy array, i.e the reshaped images\n",
    "    Input:\n",
    "        imgs_reshaped: (1728,N) numpy array\n",
    "        sigma: scalar, noise level\n",
    "    Output:\n",
    "        noisy_faces: (1728,N) numpy array containing noisy images\n",
    "    \"\"\"\n",
    "    # Noise level\n",
    "    sigma = 0.1\n",
    "\n",
    "    # Array that will store the rgb channels of the noisy images\n",
    "    noisy_faces = np.copy(imgs_reshaped)\n",
    "\n",
    "    # Number of noisy values we need\n",
    "    nnzero = faces_reshaped[np.nonzero(imgs_reshaped)].shape[0]\n",
    "\n",
    "    # Sample noisy values and add noise\n",
    "    noise = np.random.normal(0.0,1,nnzero)\n",
    "    noisy_faces[np.nonzero(imgs_reshaped)] += sigma*noise\n",
    "\n",
    "    # Clip to lie between 0 and 1 so that we can still interpret them as images\n",
    "    noisy_faces = np.maximum(0.0,np.minimum(1.0, noisy_faces))\n",
    "\n",
    "    return noisy_faces"
   ]
  },
  {
   "cell_type": "markdown",
   "metadata": {},
   "source": [
    "***Vi kan nå legge til støy til bildene våre, legge på opasitetskanalaen igjen og plotte. Dere må gjøre noe lignende etter dere har anvendt NMF og ønsker å plotte rekonstruksjoner med opasitet.***"
   ]
  },
  {
   "cell_type": "markdown",
   "metadata": {},
   "source": [
    "3a)\\ \n",
    "\\\n",
    "\\\n",
    "\\\n",
    "\\\n",
    "\\\n",
    "\n"
   ]
  },
  {
   "cell_type": "code",
   "execution_count": null,
   "metadata": {},
   "outputs": [],
   "source": [
    "faces_reshaped_noisy = add_noise(faces_reshaped)\n",
    "\n",
    "# Calculate the error of the noisy images\n",
    "noise_residual = np.linalg.norm(faces_reshaped_noisy - faces_reshaped, 'fro') # SJEKK AT RIKTIG NORM?!?!?!?!?!?!?!?!?!?!?\n",
    "print(noise_residual)\n",
    "\n",
    "# For plotting noisy images we add the opacity\n",
    "faces_noisy = merge_and_reshape(faces_reshaped_noisy, opacity)\n",
    "plotimgs(faces_noisy)"
   ]
  },
  {
   "cell_type": "markdown",
   "metadata": {},
   "source": []
  },
  {
   "cell_type": "markdown",
   "metadata": {},
   "source": [
    "**NMF -> ADD COOLER TITLEs**"
   ]
  },
  {
   "cell_type": "markdown",
   "metadata": {},
   "source": [
    "3b) \n",
    "\n",
    "***• b) Using the same approach as task 2, fit an NMF using d = 64 to the noisy images.\n",
    "Plot the columns of W and the reconstructions like you did in 2c) and 2d). Are\n",
    "the reconstructions less noisy than the noisy images? Compare the columns of W\n",
    "and the reconstructions to the results you got in task 2.***"
   ]
  },
  {
   "cell_type": "code",
   "execution_count": null,
   "metadata": {},
   "outputs": [],
   "source": [
    "d = 64\n",
    "W_noisy, H_noisy, err_noisy = NMF(faces_reshaped_noisy, d, maxiter = 100) # øke maxiter!!\n",
    "\n",
    "W_columns_noisy = merge_and_reshape(W_noisy)\n",
    "plotimgs(W_columns_noisy, 8, filename=\"punks_basis_noisy.png\", figsize = (12, 12))\n",
    "\n",
    "images_noisy_reborn = merge_and_reshape(np.dot(W_noisy, H_noisy), opacity)\n",
    "plotimgs(images_noisy_reborn, 8, filename=\"punks.png\", figsize = (12, 12))"
   ]
  },
  {
   "cell_type": "markdown",
   "metadata": {},
   "source": []
  },
  {
   "cell_type": "markdown",
   "metadata": {},
   "source": [
    "**sss**"
   ]
  },
  {
   "cell_type": "markdown",
   "metadata": {},
   "source": [
    "3c) \n",
    "\n",
    "***c) As you did in task 2, fit an NMF to the noisy images for a wide range of d,\n",
    "calculate the reconstruction error ∥A − W H∥F (important: A is here the original\n",
    "images, NOT the noisy images). Plot this with the error you calculated in 2f),\n",
    "where noiseless images were used. If you have a large enough range of d and large\n",
    "enough noise you should see that the reconstruction error for the noisy images\n",
    "is somewhere between ”U”-shaped and ”L”-shaped, and at some point the error\n",
    "should increase for large enough d. Explain why the plot looks like this (try to\n",
    "include the words ”underfitting” and ”overfitting”). Approximately, what value of\n",
    "d is the ”best fit”, that provides the lowest reconstruction error?***\n"
   ]
  },
  {
   "cell_type": "code",
   "execution_count": null,
   "metadata": {},
   "outputs": [],
   "source": [
    "# BIG SIMULATION TIME\n",
    "\n",
    "d_vals = [i**2 for i in range(2, 22)]\n",
    "maxiter = 50\n",
    "final_error_noisy = np.zeros(len(d_vals))\n",
    "for i in tqdm(range(len(d_vals)), leave = False):\n",
    "    W_n, H_n, err_n = NMF(faces_reshaped_noisy, d_vals[i], maxiter = maxiter)\n",
    "    final_error_noisy[i] = np.linalg.norm(faces_reshaped - np.dot(W_n, H_n), 'fro')\n",
    "\n",
    "plt.plot(d_vals, final_error_noisy, label = \"noisy\")\n",
    "plt.plot(d_vals, final_error, label = \"no noise\")\n",
    "plt.legend()\n",
    "\n",
    "## SAVE DATA"
   ]
  },
  {
   "cell_type": "markdown",
   "metadata": {},
   "source": [
    "We now load data ..."
   ]
  },
  {
   "cell_type": "code",
   "execution_count": null,
   "metadata": {},
   "outputs": [],
   "source": [
    "# Load and plot!"
   ]
  },
  {
   "cell_type": "markdown",
   "metadata": {},
   "source": [
    "Discuss"
   ]
  },
  {
   "cell_type": "markdown",
   "metadata": {},
   "source": [
    "## Conclusion <a class=\"anchor\" id=\"conclusion\"></a>"
   ]
  },
  {
   "cell_type": "markdown",
   "metadata": {},
   "source": [
    "3d) \n",
    "\n",
    "***d) Include a suitable conclusion to the entire project. What did you find? What\n",
    "are the advantages and disadvantages of applying NMF for images, in particular\n",
    "for denoising?***\n",
    "\n",
    "Random\n",
    "\n",
    "piss\n",
    "\n",
    "på \n",
    "\n",
    "konk"
   ]
  }
 ],
 "metadata": {
  "interpreter": {
   "hash": "aee8b7b246df8f9039afb4144a1f6fd8d2ca17a180786b69acc140d282b71a49"
  },
  "kernelspec": {
   "display_name": "Python 3 (ipykernel)",
   "language": "python",
   "name": "python3"
  },
  "language_info": {
   "codemirror_mode": {
    "name": "ipython",
    "version": 3
   },
   "file_extension": ".py",
   "mimetype": "text/x-python",
   "name": "python",
   "nbconvert_exporter": "python",
   "pygments_lexer": "ipython3",
   "version": "3.9.7"
  }
 },
 "nbformat": 4,
 "nbformat_minor": 2
}
