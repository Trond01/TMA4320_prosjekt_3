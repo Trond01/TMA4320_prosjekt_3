{
 "cells": [
  {
   "cell_type": "markdown",
   "metadata": {},
   "source": [
    "# TITLE   TITLE   TITLE"
   ]
  },
  {
   "cell_type": "markdown",
   "metadata": {},
   "source": [
    "## Contents\n",
    "* [Introduction](#intro)\n",
    "* [Sampling images and plotting](#visual)\n",
    "* [Theory behind methods](#method)\n",
    "* [](#)\n",
    "* [](#)\n",
    "* [](#)\n",
    "* [](#)\n",
    "* [](#)\n",
    "* [Denoising](#denoising)\n",
    "* [Conclusion](#conclusion)"
   ]
  },
  {
   "cell_type": "markdown",
   "metadata": {},
   "source": [
    "## Introduction <a class=\"anchor\" id=\"intro\"></a>"
   ]
  },
  {
   "cell_type": "markdown",
   "metadata": {},
   "source": [
    "INSERT intro her"
   ]
  },
  {
   "cell_type": "markdown",
   "metadata": {},
   "source": []
  },
  {
   "cell_type": "markdown",
   "metadata": {},
   "source": []
  },
  {
   "cell_type": "code",
   "execution_count": null,
   "metadata": {},
   "outputs": [],
   "source": []
  },
  {
   "cell_type": "markdown",
   "metadata": {},
   "source": [
    "## Sampling images and plotting <a class=\"anchor\" id=\"visual\"></a>"
   ]
  },
  {
   "cell_type": "markdown",
   "metadata": {},
   "source": [
    "We begin by importing necessary libraries."
   ]
  },
  {
   "cell_type": "code",
   "execution_count": 1,
   "metadata": {},
   "outputs": [],
   "source": [
    "## Libraries for math and plotting\n",
    "import numpy as np\n",
    "import matplotlib.pyplot as plt\n",
    "\n",
    "## Image handling, files, timing and status bar\n",
    "# %pip install opencv-python # Required to import cv2 !!!\n",
    "import cv2\n",
    "import os\n",
    "import time\n",
    "import random\n",
    "from tqdm.notebook import tqdm"
   ]
  },
  {
   "cell_type": "markdown",
   "metadata": {},
   "source": [
    "The dataset for this project consists of 10 000 images. Of these we will sample $N=XXXX$ random images. We use a predeterminded seed to ensure the results won't change if the notebook is restarted. "
   ]
  },
  {
   "cell_type": "code",
   "execution_count": 2,
   "metadata": {},
   "outputs": [
    {
     "name": "stdout",
     "output_type": "stream",
     "text": [
      "(24, 24, 4, 500)\n"
     ]
    }
   ],
   "source": [
    "def load_images(N, seed = 4269):\n",
    "    \"\"\"\n",
    "    Loads N random images from cryptopunk dataset. Use the same seed to get the same\n",
    "    selection each time. \n",
    "    Input:\n",
    "        integer: N, number of images to load\n",
    "        integer: seed for random sampling\n",
    "    Output:\n",
    "        array: faces, (24,24,4,N) numpy array containing images\n",
    "    \"\"\"\n",
    "    # Allocate array to store images\n",
    "    faces = np.zeros((24,24,4,N))\n",
    "\n",
    "    # Chose N random image numbers\n",
    "    M = 10000 # number of images to choose from\n",
    "    np.random.seed(seed)\n",
    "    image_number_choice = np.random.choice(np.arange(0, M),N, replace = False)\n",
    "        \n",
    "    # Iterate over folders\n",
    "    for i in range(len(image_number_choice)):\n",
    "        im_path = f\"./imgs/imgs/imgs/{image_number_choice[i]}.png\"\n",
    "        im = cv2.imread(im_path, cv2.IMREAD_UNCHANGED)\n",
    "        faces[:,:,:,i] = cv2.cvtColor(im, cv2.COLOR_BGRA2RGBA)/255.0\n",
    "\n",
    "    return faces\n",
    "\n",
    "# Number of faces to keep in final array\n",
    "N = 500\n",
    "\n",
    "# Load N faces\n",
    "faces = load_images(N)\n",
    "\n",
    "# Check that the shape is correct\n",
    "print(faces.shape)"
   ]
  },
  {
   "cell_type": "code",
   "execution_count": 3,
   "metadata": {},
   "outputs": [],
   "source": [
    "# Code for plotting images\n",
    "def plotimgs(imgs, nplot = 8, rescale = False, filename = None):\n",
    "    \"\"\"\n",
    "    Plots nplot*nplot images on an nplot x nplot grid. \n",
    "    Saves to given filename if filename is given\n",
    "    Can also rescale the RGB channels\n",
    "    input:\n",
    "        imgs: (24,24,4,N) or (24,24,3,N) array containing images, where N > nplot**2\n",
    "        nplot: integer, nplot**2 images will be plotted\n",
    "        rescale: bool\n",
    "        filename: string, figure will be saved to this location. Should end with \".png\".\n",
    "    \"\"\"\n",
    "    # We will change some of the parameters of matplotlib, so we store the initial ones\n",
    "    oldparams = plt.rcParams['figure.figsize']\n",
    "\n",
    "    # New params to make better plot. There definitely exists better ways of doing this\n",
    "    plt.rcParams['figure.figsize'] = (16, 16)\n",
    "\n",
    "    # Initialize subplots\n",
    "    fig, axes = plt.subplots(nplot,nplot)\n",
    "\n",
    "    # Set background color\n",
    "    plt.gcf().set_facecolor(\"lightgrey\")\n",
    "\n",
    "    # Iterate over images\n",
    "    for idx in range(nplot**2):\n",
    "        \n",
    "        # Indices\n",
    "        i = idx//nplot; j = idx%nplot\n",
    "\n",
    "        # Remove axis\n",
    "        axes[i,j].axis('off')\n",
    "\n",
    "        # Rescale RGB channels by dividing my maximal value\n",
    "        if rescale:\n",
    "            scaled_img = np.copy(imgs[:,:,:,idx])\n",
    "            scaled_img[:,:,:3] = scaled_img[:,:,:3]/np.max(scaled_img[:,:,:3])\n",
    "            axes[i,j].imshow(scaled_img)\n",
    "        else:\n",
    "            axes[i,j].imshow(imgs[:,:,:,idx])\n",
    "    \n",
    "    # Tight layout so images will appear closer together\n",
    "    plt.tight_layout()\n",
    "\n",
    "    # Save if filename is given\n",
    "    if filename is not None:\n",
    "        plt.savefig(filename)\n",
    "\n",
    "    plt.show()\n",
    "\n",
    "    # Return to old parameters\n",
    "    plt.rcParams['figure.figsize'] = oldparams\n"
   ]
  },
  {
   "cell_type": "code",
   "execution_count": 14,
   "metadata": {},
   "outputs": [
    {
     "data": {
      "image/png": "[encoded data removed]",
      "text/plain": [
       "<Figure size 1152x1152 with 16 Axes>"
      ]
     },
     "metadata": {},
     "output_type": "display_data"
    }
   ],
   "source": [
    "# Example of plotting 8 times 8 images stored in \"faces\" and saving the output to a file named \"punks.png\"\n",
    "plotimgs(faces, 4, filename=\"punks.png\")"
   ]
  },
  {
   "cell_type": "markdown",
   "metadata": {},
   "source": [
    "Under er noe dere egentlig kan gjøre dere vil, men her viser vi hvordan dere kan splitte fargekanalene fra opasitetskanalen, samt reshape slik at dere har en array som dere kan anvende NMF på. "
   ]
  },
  {
   "cell_type": "code",
   "execution_count": 5,
   "metadata": {},
   "outputs": [],
   "source": [
    "# Split the images into opacity and rgb channels\n",
    "faces_opacity = faces[:,:,3,:]\n",
    "faces_rgb = faces[:,:,:3,:]\n",
    "shape = faces_rgb.shape\n",
    "\n",
    "# Clever reshape \"trick\". This is the matrix we will apply the NMF to\n",
    "faces_reshaped = faces_rgb.reshape(np.prod(shape)//N, N)\n"
   ]
  },
  {
   "cell_type": "code",
   "execution_count": null,
   "metadata": {},
   "outputs": [],
   "source": []
  },
  {
   "cell_type": "markdown",
   "metadata": {},
   "source": [
    "## Theory behind methods <a class=\"anchor\" id=\"method\"></a>"
   ]
  },
  {
   "cell_type": "code",
   "execution_count": null,
   "metadata": {},
   "outputs": [],
   "source": []
  },
  {
   "cell_type": "markdown",
   "metadata": {},
   "source": [
    "<h2> NMF-algoritmen </h2>\n",
    "Under er en mal for hva en NMF funksjon burde ta inn og spytte ut. Merk at dere må fylle inn, akkurat nå kræsjer den."
   ]
  },
  {
   "cell_type": "code",
   "execution_count": null,
   "metadata": {},
   "outputs": [],
   "source": []
  },
  {
   "cell_type": "markdown",
   "metadata": {},
   "source": [
    "## TASK 1"
   ]
  },
  {
   "cell_type": "markdown",
   "metadata": {},
   "source": [
    "**SUGGESTION: we present the method/algorithm here and do the tasks a-c before implementation.**\n",
    "\n",
    "present\\\n",
    "\\\n",
    "\\\n",
    "\\\n",
    "\\\n",
    "\n",
    "present"
   ]
  },
  {
   "cell_type": "markdown",
   "metadata": {},
   "source": [
    "a) vise blabla\n",
    "\\\n",
    "\\\n",
    "\\\n",
    "\\\n"
   ]
  },
  {
   "cell_type": "markdown",
   "metadata": {},
   "source": [
    "b) vise blabla\n",
    "\\\n",
    "\\\n",
    "\\\n",
    "\\\n"
   ]
  },
  {
   "cell_type": "markdown",
   "metadata": {},
   "source": [
    "c) vise blabla\n",
    "\\\n",
    "\\\n",
    "\\\n",
    "\\\\\n"
   ]
  },
  {
   "cell_type": "markdown",
   "metadata": {},
   "source": [
    "We now implement ...\n",
    "\n",
    "Study the matrices:\n",
    "\n",
    "$$INSERT$$"
   ]
  },
  {
   "cell_type": "code",
   "execution_count": 12,
   "metadata": {},
   "outputs": [],
   "source": [
    "A1 = np.array([[1, 0],\n",
    "               [0, 1]], dtype = \"float\")\n",
    "\n",
    "A2 = np.array([[1, 2],\n",
    "               [1, 1],\n",
    "               [1, 2]], dtype = \"float\")\n",
    "\n",
    "A3 = np.array([[2, 1, 1],\n",
    "               [2, 1, 1],\n",
    "               [1, 1, 2]], dtype = \"float\")\n",
    "\n",
    "A4 = np.array([[2, 1, 0],\n",
    "               [1, 2, 3],\n",
    "               [0, 3, 3]], dtype = \"float\")"
   ]
  },
  {
   "cell_type": "code",
   "execution_count": 6,
   "metadata": {},
   "outputs": [],
   "source": [
    "#e\n",
    "#f extend to store frobenius norm\n",
    "\n",
    "def NMF(V, d, delta = 1e-9, maxiter = 1000, seed = 0):\n",
    "    \"\"\"\n",
    "    ((Skriv en forklaring på hva funksjonen gjør her))\n",
    "    input:\n",
    "        V: (m,n) input array\n",
    "        d: integer, Number of components we want to decompose V into\n",
    "        delta, float, small number for safe division\n",
    "        maxiter: integer, maximum number of iterations\n",
    "        seed: integer, random seed\n",
    "    output:\n",
    "        W: (m,d) array\n",
    "        H: (d,n) array\n",
    "    \"\"\"\n",
    "\n",
    "    if seed != 0:\n",
    "        np.random.seed(seed)\n",
    "    \"\"\"\n",
    "    FYLL INN\n",
    "    \"\"\"\n",
    "    return W, H"
   ]
  },
  {
   "cell_type": "code",
   "execution_count": null,
   "metadata": {},
   "outputs": [],
   "source": [
    "#e"
   ]
  },
  {
   "cell_type": "markdown",
   "metadata": {},
   "source": [
    "e"
   ]
  },
  {
   "cell_type": "code",
   "execution_count": null,
   "metadata": {},
   "outputs": [],
   "source": [
    "#f FIND ranks"
   ]
  },
  {
   "cell_type": "markdown",
   "metadata": {},
   "source": []
  },
  {
   "cell_type": "code",
   "execution_count": null,
   "metadata": {},
   "outputs": [],
   "source": [
    "#g\n",
    "\n",
    "\"\"\"\n",
    "g) For A3 and A4, run the NMF algorithm for d = 1, d = 2 and d = 3 and\n",
    "plot ∥A − WkHk∥F as a function of number of iterations in two separate plots\n",
    "(one for A3 and one for A4). Scale the y-axis logarithmically, using for example\n",
    "plt.semilogy. Is equation (17) satisfied? How do the results depend on d?\n",
    "\"\"\""
   ]
  },
  {
   "cell_type": "markdown",
   "metadata": {},
   "source": []
  },
  {
   "cell_type": "markdown",
   "metadata": {},
   "source": []
  },
  {
   "cell_type": "markdown",
   "metadata": {},
   "source": [
    "## TASK 2"
   ]
  },
  {
   "cell_type": "code",
   "execution_count": null,
   "metadata": {},
   "outputs": [],
   "source": []
  },
  {
   "cell_type": "code",
   "execution_count": null,
   "metadata": {},
   "outputs": [],
   "source": []
  },
  {
   "cell_type": "code",
   "execution_count": null,
   "metadata": {},
   "outputs": [],
   "source": []
  },
  {
   "cell_type": "code",
   "execution_count": null,
   "metadata": {},
   "outputs": [],
   "source": []
  },
  {
   "cell_type": "code",
   "execution_count": null,
   "metadata": {},
   "outputs": [],
   "source": []
  },
  {
   "cell_type": "code",
   "execution_count": null,
   "metadata": {},
   "outputs": [],
   "source": []
  },
  {
   "cell_type": "code",
   "execution_count": null,
   "metadata": {},
   "outputs": [],
   "source": []
  },
  {
   "cell_type": "markdown",
   "metadata": {},
   "source": [
    "## Denoising <a class=\"anchor\" id=\"denoising\"></a>"
   ]
  },
  {
   "cell_type": "markdown",
   "metadata": {},
   "source": [
    "We will now add noise ..."
   ]
  },
  {
   "cell_type": "markdown",
   "metadata": {},
   "source": [
    "We model the noise as:\n",
    "\n",
    "Below is the function ..."
   ]
  },
  {
   "cell_type": "code",
   "execution_count": 7,
   "metadata": {},
   "outputs": [],
   "source": [
    "def add_noise(imgs_reshaped, sigma = 0.1):\n",
    "    \"\"\"\n",
    "    Adds gaussian noise to images as described in text.\n",
    "    Note that imgs must be given as a (24*24*3, N) numpy array, i.e the reshaped images\n",
    "    Input:\n",
    "        imgs_reshaped: (1728,N) numpy array\n",
    "        sigma: scalar, noise level\n",
    "    Output:\n",
    "        noisy_faces: (1728,N) numpy array containing noisy images\n",
    "    \"\"\"\n",
    "    # Noise level\n",
    "    sigma = 0.1\n",
    "\n",
    "    # Array that will store the rgb channels of the noisy images\n",
    "    noisy_faces = np.copy(imgs_reshaped)\n",
    "\n",
    "    # Number of noisy values we need\n",
    "    nnzero = faces_reshaped[np.nonzero(imgs_reshaped)].shape[0]\n",
    "\n",
    "    # Sample noisy values and add noise\n",
    "    noise = np.random.normal(0.0,1,nnzero)\n",
    "    noisy_faces[np.nonzero(imgs_reshaped)] += sigma*noise\n",
    "\n",
    "    # Clip to lie between 0 and 1 so that we can still interpret them as images\n",
    "    noisy_faces = np.maximum(0.0,np.minimum(1.0, noisy_faces))\n",
    "\n",
    "    return noisy_faces\n",
    "\n"
   ]
  },
  {
   "cell_type": "markdown",
   "metadata": {},
   "source": [
    "Vi kan nå legge til støy til bildene våre, legge på opasitetskanalaen igjen og plotte. Dere må gjøre noe lignende etter dere har anvendt NMF og ønsker å plotte rekonstruksjoner med opasitet."
   ]
  },
  {
   "cell_type": "code",
   "execution_count": 8,
   "metadata": {},
   "outputs": [
    {
     "name": "stdout",
     "output_type": "stream",
     "text": [
      "42.08823696789084\n"
     ]
    },
    {
     "data": {
      "image/png": "[encoded data removed]",
      "text/plain": [
       "<Figure size 1152x1152 with 64 Axes>"
      ]
     },
     "metadata": {},
     "output_type": "display_data"
    }
   ],
   "source": [
    "noisy_faces = add_noise(faces_reshaped)\n",
    "\n",
    "# Calculate the error of the noisy images\n",
    "noise_residual = np.linalg.norm(noisy_faces - faces_reshaped)\n",
    "print(noise_residual)\n",
    "\n",
    "# For plotting noisy images we add the opacity\n",
    "noisy_faces_with_opacity = np.zeros(faces.shape)\n",
    "noisy_faces_with_opacity[:,:,:3,:] = noisy_faces.reshape(faces_rgb.shape)\n",
    "noisy_faces_with_opacity[:,:,3,:] = faces_opacity\n",
    "plotimgs(noisy_faces_with_opacity)"
   ]
  },
  {
   "cell_type": "code",
   "execution_count": null,
   "metadata": {},
   "outputs": [],
   "source": []
  },
  {
   "cell_type": "markdown",
   "metadata": {},
   "source": [
    "## Conclusion <a class=\"anchor\" id=\"conclusion\"></a>"
   ]
  },
  {
   "cell_type": "markdown",
   "metadata": {},
   "source": []
  }
 ],
 "metadata": {
  "interpreter": {
   "hash": "aee8b7b246df8f9039afb4144a1f6fd8d2ca17a180786b69acc140d282b71a49"
  },
  "kernelspec": {
   "display_name": "Python 3 (ipykernel)",
   "language": "python",
   "name": "python3"
  },
  "language_info": {
   "codemirror_mode": {
    "name": "ipython",
    "version": 3
   },
   "file_extension": ".py",
   "mimetype": "text/x-python",
   "name": "python",
   "nbconvert_exporter": "python",
   "pygments_lexer": "ipython3",
   "version": "3.9.7"
  }
 },
 "nbformat": 4,
 "nbformat_minor": 2
}
